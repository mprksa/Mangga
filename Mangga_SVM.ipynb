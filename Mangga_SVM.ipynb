{
  "nbformat": 4,
  "nbformat_minor": 0,
  "metadata": {
    "colab": {
      "provenance": [],
      "authorship_tag": "ABX9TyNizRXZrCi/vqBIazXu7/tA",
      "include_colab_link": true
    },
    "kernelspec": {
      "name": "python3",
      "display_name": "Python 3"
    },
    "language_info": {
      "name": "python"
    }
  },
  "cells": [
    {
      "cell_type": "markdown",
      "metadata": {
        "id": "view-in-github",
        "colab_type": "text"
      },
      "source": [
        "<a href=\"https://colab.research.google.com/github/mprksa/Mangga/blob/main/Mangga_SVM.ipynb\" target=\"_parent\"><img src=\"https://colab.research.google.com/assets/colab-badge.svg\" alt=\"Open In Colab\"/></a>"
      ]
    },
    {
      "cell_type": "code",
      "execution_count": 116,
      "metadata": {
        "id": "5i8WAM5djWFq"
      },
      "outputs": [],
      "source": [
        "import os\n",
        "import numpy as np\n",
        "from sklearn.neighbors import KNeighborsClassifier\n",
        "from sklearn.svm import SVC\n",
        "from sklearn.metrics import confusion_matrix, classification_report, ConfusionMatrixDisplay, accuracy_score\n",
        "import matplotlib.pyplot as plt\n",
        "from PIL import Image, ImageEnhance"
      ]
    },
    {
      "cell_type": "code",
      "source": [
        "!git clone https://github.com/mprksa/Mangga.git"
      ],
      "metadata": {
        "colab": {
          "base_uri": "https://localhost:8080/"
        },
        "id": "7e3qkBnaj5E_",
        "outputId": "3dba1120-4b2c-4ff6-e848-d0f70f0aaae2"
      },
      "execution_count": 2,
      "outputs": [
        {
          "output_type": "stream",
          "name": "stdout",
          "text": [
            "Cloning into 'Mangga'...\n",
            "remote: Enumerating objects: 117, done.\u001b[K\n",
            "remote: Counting objects: 100% (117/117), done.\u001b[K\n",
            "remote: Compressing objects: 100% (113/113), done.\u001b[K\n",
            "remote: Total 117 (delta 32), reused 0 (delta 0), pack-reused 0\u001b[K\n",
            "Receiving objects: 100% (117/117), 1.98 MiB | 6.97 MiB/s, done.\n",
            "Resolving deltas: 100% (32/32), done.\n"
          ]
        }
      ]
    },
    {
      "cell_type": "code",
      "source": [
        "# Fungsi untuk augmentasi gambar\n",
        "def augment_image(image):\n",
        "    # Rotasi acak\n",
        "    angle = np.random.uniform(-15, 15)\n",
        "    image = image.rotate(angle)\n",
        "    # Penambahan kontras\n",
        "    enhancer = ImageEnhance.Contrast(image)\n",
        "    image = enhancer.enhance(np.random.uniform(0.8, 1.2))\n",
        "    return image\n",
        "\n",
        "# Fungsi untuk membaca dan mengaugmentasi gambar\n",
        "def load_images_from_folder(folder, augment=False):\n",
        "    images = []\n",
        "    labels = []\n",
        "    for label, category in enumerate(['mangga_matang', 'mangga_mentah', 'mangga_setengah_matang']):\n",
        "        category_folder = os.path.join(folder, category)\n",
        "        for filename in os.listdir(category_folder):\n",
        "            img_path = os.path.join(category_folder, filename)\n",
        "            try:\n",
        "                image = Image.open(img_path)\n",
        "                image = image.convert('RGB')  # Konversi ke RGB\n",
        "                if augment:\n",
        "                    image = augment_image(image)\n",
        "                image = image.resize((64, 64))  # Ubah ukuran gambar jika perlu\n",
        "                image_np = np.array(image).flatten()\n",
        "                images.append(image_np)\n",
        "                labels.append(label)\n",
        "            except Exception as e:\n",
        "                print(f\"Error processing file {img_path}: {e}\")\n",
        "    return np.array(images), np.array(labels)"
      ],
      "metadata": {
        "id": "zMuZJhm5jZO0"
      },
      "execution_count": 117,
      "outputs": []
    },
    {
      "cell_type": "code",
      "source": [
        "# Folder dataset\n",
        "dataset_base_folder = 'Mangga'"
      ],
      "metadata": {
        "id": "mJNGd1qCjfYs"
      },
      "execution_count": 118,
      "outputs": []
    },
    {
      "cell_type": "code",
      "source": [
        "# Membaca data train, test, dan validation\n",
        "X_train, y_train = load_images_from_folder(os.path.join(dataset_base_folder, 'train'))\n",
        "X_test, y_test = load_images_from_folder(os.path.join(dataset_base_folder, 'test'))\n",
        "X_val, y_val = load_images_from_folder(os.path.join(dataset_base_folder, 'validation'))"
      ],
      "metadata": {
        "id": "O2OcJxN5jhKS"
      },
      "execution_count": 119,
      "outputs": []
    },
    {
      "cell_type": "code",
      "source": [
        "# Augmentasi data train\n",
        "X_train_augmented, y_train_augmented = load_images_from_folder(os.path.join(dataset_base_folder, 'train'), augment=True)"
      ],
      "metadata": {
        "id": "k3jsUC_ojkoO"
      },
      "execution_count": 120,
      "outputs": []
    },
    {
      "cell_type": "code",
      "source": [
        "# Kombinasikan data asli dan augmentasi\n",
        "X_train_combined = np.vstack((X_train, X_train_augmented))\n",
        "y_train_combined = np.hstack((y_train, y_train_augmented))"
      ],
      "metadata": {
        "id": "QoqA02i9jnzb"
      },
      "execution_count": 121,
      "outputs": []
    },
    {
      "cell_type": "code",
      "source": [
        "# Tampilkan jumlah gambar di setiap set\n",
        "print(f\"Jumlah gambar di train set (asli): {len(X_train)}\")\n",
        "print(f\"Jumlah gambar di train set (augmentasi): {len(X_train_augmented)}\")\n",
        "print(f\"Jumlah total gambar di train set: {len(X_train_combined)}\")\n",
        "print(f\"Jumlah gambar di test set: {len(X_test)}\")\n",
        "print(f\"Jumlah gambar di validation set: {len(X_val)}\")"
      ],
      "metadata": {
        "colab": {
          "base_uri": "https://localhost:8080/"
        },
        "id": "N2VW4zyRtR-S",
        "outputId": "cae5df8d-d845-4799-d1eb-d5439c02c153"
      },
      "execution_count": 122,
      "outputs": [
        {
          "output_type": "stream",
          "name": "stdout",
          "text": [
            "Jumlah gambar di train set (asli): 15\n",
            "Jumlah gambar di train set (augmentasi): 15\n",
            "Jumlah total gambar di train set: 30\n",
            "Jumlah gambar di test set: 15\n",
            "Jumlah gambar di validation set: 15\n"
          ]
        }
      ]
    },
    {
      "cell_type": "code",
      "source": [
        "# Inisialisasi dan training model K-NN\n",
        "knn = KNeighborsClassifier(n_neighbors=3)\n",
        "knn.fit(X_train_combined, y_train_combined)"
      ],
      "metadata": {
        "colab": {
          "base_uri": "https://localhost:8080/",
          "height": 75
        },
        "id": "UBsWinfBtWvD",
        "outputId": "f4e9dc8d-13c2-4c26-e3e4-5db252b30dc7"
      },
      "execution_count": 123,
      "outputs": [
        {
          "output_type": "execute_result",
          "data": {
            "text/plain": [
              "KNeighborsClassifier(n_neighbors=3)"
            ],
            "text/html": [
              "<style>#sk-container-id-7 {color: black;background-color: white;}#sk-container-id-7 pre{padding: 0;}#sk-container-id-7 div.sk-toggleable {background-color: white;}#sk-container-id-7 label.sk-toggleable__label {cursor: pointer;display: block;width: 100%;margin-bottom: 0;padding: 0.3em;box-sizing: border-box;text-align: center;}#sk-container-id-7 label.sk-toggleable__label-arrow:before {content: \"▸\";float: left;margin-right: 0.25em;color: #696969;}#sk-container-id-7 label.sk-toggleable__label-arrow:hover:before {color: black;}#sk-container-id-7 div.sk-estimator:hover label.sk-toggleable__label-arrow:before {color: black;}#sk-container-id-7 div.sk-toggleable__content {max-height: 0;max-width: 0;overflow: hidden;text-align: left;background-color: #f0f8ff;}#sk-container-id-7 div.sk-toggleable__content pre {margin: 0.2em;color: black;border-radius: 0.25em;background-color: #f0f8ff;}#sk-container-id-7 input.sk-toggleable__control:checked~div.sk-toggleable__content {max-height: 200px;max-width: 100%;overflow: auto;}#sk-container-id-7 input.sk-toggleable__control:checked~label.sk-toggleable__label-arrow:before {content: \"▾\";}#sk-container-id-7 div.sk-estimator input.sk-toggleable__control:checked~label.sk-toggleable__label {background-color: #d4ebff;}#sk-container-id-7 div.sk-label input.sk-toggleable__control:checked~label.sk-toggleable__label {background-color: #d4ebff;}#sk-container-id-7 input.sk-hidden--visually {border: 0;clip: rect(1px 1px 1px 1px);clip: rect(1px, 1px, 1px, 1px);height: 1px;margin: -1px;overflow: hidden;padding: 0;position: absolute;width: 1px;}#sk-container-id-7 div.sk-estimator {font-family: monospace;background-color: #f0f8ff;border: 1px dotted black;border-radius: 0.25em;box-sizing: border-box;margin-bottom: 0.5em;}#sk-container-id-7 div.sk-estimator:hover {background-color: #d4ebff;}#sk-container-id-7 div.sk-parallel-item::after {content: \"\";width: 100%;border-bottom: 1px solid gray;flex-grow: 1;}#sk-container-id-7 div.sk-label:hover label.sk-toggleable__label {background-color: #d4ebff;}#sk-container-id-7 div.sk-serial::before {content: \"\";position: absolute;border-left: 1px solid gray;box-sizing: border-box;top: 0;bottom: 0;left: 50%;z-index: 0;}#sk-container-id-7 div.sk-serial {display: flex;flex-direction: column;align-items: center;background-color: white;padding-right: 0.2em;padding-left: 0.2em;position: relative;}#sk-container-id-7 div.sk-item {position: relative;z-index: 1;}#sk-container-id-7 div.sk-parallel {display: flex;align-items: stretch;justify-content: center;background-color: white;position: relative;}#sk-container-id-7 div.sk-item::before, #sk-container-id-7 div.sk-parallel-item::before {content: \"\";position: absolute;border-left: 1px solid gray;box-sizing: border-box;top: 0;bottom: 0;left: 50%;z-index: -1;}#sk-container-id-7 div.sk-parallel-item {display: flex;flex-direction: column;z-index: 1;position: relative;background-color: white;}#sk-container-id-7 div.sk-parallel-item:first-child::after {align-self: flex-end;width: 50%;}#sk-container-id-7 div.sk-parallel-item:last-child::after {align-self: flex-start;width: 50%;}#sk-container-id-7 div.sk-parallel-item:only-child::after {width: 0;}#sk-container-id-7 div.sk-dashed-wrapped {border: 1px dashed gray;margin: 0 0.4em 0.5em 0.4em;box-sizing: border-box;padding-bottom: 0.4em;background-color: white;}#sk-container-id-7 div.sk-label label {font-family: monospace;font-weight: bold;display: inline-block;line-height: 1.2em;}#sk-container-id-7 div.sk-label-container {text-align: center;}#sk-container-id-7 div.sk-container {/* jupyter's `normalize.less` sets `[hidden] { display: none; }` but bootstrap.min.css set `[hidden] { display: none !important; }` so we also need the `!important` here to be able to override the default hidden behavior on the sphinx rendered scikit-learn.org. See: https://github.com/scikit-learn/scikit-learn/issues/21755 */display: inline-block !important;position: relative;}#sk-container-id-7 div.sk-text-repr-fallback {display: none;}</style><div id=\"sk-container-id-7\" class=\"sk-top-container\"><div class=\"sk-text-repr-fallback\"><pre>KNeighborsClassifier(n_neighbors=3)</pre><b>In a Jupyter environment, please rerun this cell to show the HTML representation or trust the notebook. <br />On GitHub, the HTML representation is unable to render, please try loading this page with nbviewer.org.</b></div><div class=\"sk-container\" hidden><div class=\"sk-item\"><div class=\"sk-estimator sk-toggleable\"><input class=\"sk-toggleable__control sk-hidden--visually\" id=\"sk-estimator-id-7\" type=\"checkbox\" checked><label for=\"sk-estimator-id-7\" class=\"sk-toggleable__label sk-toggleable__label-arrow\">KNeighborsClassifier</label><div class=\"sk-toggleable__content\"><pre>KNeighborsClassifier(n_neighbors=3)</pre></div></div></div></div></div>"
            ]
          },
          "metadata": {},
          "execution_count": 123
        }
      ]
    },
    {
      "cell_type": "code",
      "source": [
        "# Evaluasi model K-NN\n",
        "y_train_pred_knn = knn.predict(X_train_combined)\n",
        "y_test_pred_knn = knn.predict(X_test)\n",
        "y_val_pred_knn = knn.predict(X_val)\n",
        "\n",
        "train_accuracy_knn = accuracy_score(y_train_combined, y_train_pred_knn)\n",
        "test_accuracy_knn = accuracy_score(y_test, y_test_pred_knn)\n",
        "val_accuracy_knn = accuracy_score(y_val, y_val_pred_knn)"
      ],
      "metadata": {
        "id": "CMwaAGDGtcjU"
      },
      "execution_count": 124,
      "outputs": []
    },
    {
      "cell_type": "code",
      "source": [
        "print(f\"Akurasi K-NN pada train set: {train_accuracy_knn:.2f}\")\n",
        "print(f\"Akurasi K-NN pada test set: {test_accuracy_knn:.2f}\")\n",
        "print(f\"Akurasi K-NN pada validation set: {val_accuracy_knn:.2f}\")"
      ],
      "metadata": {
        "colab": {
          "base_uri": "https://localhost:8080/"
        },
        "id": "7EWQyvrFwrRS",
        "outputId": "c1b4ec66-f979-4894-9eb8-6168503ec149"
      },
      "execution_count": 125,
      "outputs": [
        {
          "output_type": "stream",
          "name": "stdout",
          "text": [
            "Akurasi K-NN pada train set: 0.87\n",
            "Akurasi K-NN pada test set: 0.80\n",
            "Akurasi K-NN pada validation set: 0.80\n"
          ]
        }
      ]
    },
    {
      "cell_type": "code",
      "source": [
        "# Inisialisasi dan training model SVM\n",
        "svm = SVC(kernel='linear')\n",
        "svm.fit(X_train_combined, y_train_combined)"
      ],
      "metadata": {
        "colab": {
          "base_uri": "https://localhost:8080/",
          "height": 75
        },
        "id": "CG603yRhjqXi",
        "outputId": "4cc9f927-2324-41e7-ccb9-1afebe0a8482"
      },
      "execution_count": 126,
      "outputs": [
        {
          "output_type": "execute_result",
          "data": {
            "text/plain": [
              "SVC(kernel='linear')"
            ],
            "text/html": [
              "<style>#sk-container-id-8 {color: black;background-color: white;}#sk-container-id-8 pre{padding: 0;}#sk-container-id-8 div.sk-toggleable {background-color: white;}#sk-container-id-8 label.sk-toggleable__label {cursor: pointer;display: block;width: 100%;margin-bottom: 0;padding: 0.3em;box-sizing: border-box;text-align: center;}#sk-container-id-8 label.sk-toggleable__label-arrow:before {content: \"▸\";float: left;margin-right: 0.25em;color: #696969;}#sk-container-id-8 label.sk-toggleable__label-arrow:hover:before {color: black;}#sk-container-id-8 div.sk-estimator:hover label.sk-toggleable__label-arrow:before {color: black;}#sk-container-id-8 div.sk-toggleable__content {max-height: 0;max-width: 0;overflow: hidden;text-align: left;background-color: #f0f8ff;}#sk-container-id-8 div.sk-toggleable__content pre {margin: 0.2em;color: black;border-radius: 0.25em;background-color: #f0f8ff;}#sk-container-id-8 input.sk-toggleable__control:checked~div.sk-toggleable__content {max-height: 200px;max-width: 100%;overflow: auto;}#sk-container-id-8 input.sk-toggleable__control:checked~label.sk-toggleable__label-arrow:before {content: \"▾\";}#sk-container-id-8 div.sk-estimator input.sk-toggleable__control:checked~label.sk-toggleable__label {background-color: #d4ebff;}#sk-container-id-8 div.sk-label input.sk-toggleable__control:checked~label.sk-toggleable__label {background-color: #d4ebff;}#sk-container-id-8 input.sk-hidden--visually {border: 0;clip: rect(1px 1px 1px 1px);clip: rect(1px, 1px, 1px, 1px);height: 1px;margin: -1px;overflow: hidden;padding: 0;position: absolute;width: 1px;}#sk-container-id-8 div.sk-estimator {font-family: monospace;background-color: #f0f8ff;border: 1px dotted black;border-radius: 0.25em;box-sizing: border-box;margin-bottom: 0.5em;}#sk-container-id-8 div.sk-estimator:hover {background-color: #d4ebff;}#sk-container-id-8 div.sk-parallel-item::after {content: \"\";width: 100%;border-bottom: 1px solid gray;flex-grow: 1;}#sk-container-id-8 div.sk-label:hover label.sk-toggleable__label {background-color: #d4ebff;}#sk-container-id-8 div.sk-serial::before {content: \"\";position: absolute;border-left: 1px solid gray;box-sizing: border-box;top: 0;bottom: 0;left: 50%;z-index: 0;}#sk-container-id-8 div.sk-serial {display: flex;flex-direction: column;align-items: center;background-color: white;padding-right: 0.2em;padding-left: 0.2em;position: relative;}#sk-container-id-8 div.sk-item {position: relative;z-index: 1;}#sk-container-id-8 div.sk-parallel {display: flex;align-items: stretch;justify-content: center;background-color: white;position: relative;}#sk-container-id-8 div.sk-item::before, #sk-container-id-8 div.sk-parallel-item::before {content: \"\";position: absolute;border-left: 1px solid gray;box-sizing: border-box;top: 0;bottom: 0;left: 50%;z-index: -1;}#sk-container-id-8 div.sk-parallel-item {display: flex;flex-direction: column;z-index: 1;position: relative;background-color: white;}#sk-container-id-8 div.sk-parallel-item:first-child::after {align-self: flex-end;width: 50%;}#sk-container-id-8 div.sk-parallel-item:last-child::after {align-self: flex-start;width: 50%;}#sk-container-id-8 div.sk-parallel-item:only-child::after {width: 0;}#sk-container-id-8 div.sk-dashed-wrapped {border: 1px dashed gray;margin: 0 0.4em 0.5em 0.4em;box-sizing: border-box;padding-bottom: 0.4em;background-color: white;}#sk-container-id-8 div.sk-label label {font-family: monospace;font-weight: bold;display: inline-block;line-height: 1.2em;}#sk-container-id-8 div.sk-label-container {text-align: center;}#sk-container-id-8 div.sk-container {/* jupyter's `normalize.less` sets `[hidden] { display: none; }` but bootstrap.min.css set `[hidden] { display: none !important; }` so we also need the `!important` here to be able to override the default hidden behavior on the sphinx rendered scikit-learn.org. See: https://github.com/scikit-learn/scikit-learn/issues/21755 */display: inline-block !important;position: relative;}#sk-container-id-8 div.sk-text-repr-fallback {display: none;}</style><div id=\"sk-container-id-8\" class=\"sk-top-container\"><div class=\"sk-text-repr-fallback\"><pre>SVC(kernel=&#x27;linear&#x27;)</pre><b>In a Jupyter environment, please rerun this cell to show the HTML representation or trust the notebook. <br />On GitHub, the HTML representation is unable to render, please try loading this page with nbviewer.org.</b></div><div class=\"sk-container\" hidden><div class=\"sk-item\"><div class=\"sk-estimator sk-toggleable\"><input class=\"sk-toggleable__control sk-hidden--visually\" id=\"sk-estimator-id-8\" type=\"checkbox\" checked><label for=\"sk-estimator-id-8\" class=\"sk-toggleable__label sk-toggleable__label-arrow\">SVC</label><div class=\"sk-toggleable__content\"><pre>SVC(kernel=&#x27;linear&#x27;)</pre></div></div></div></div></div>"
            ]
          },
          "metadata": {},
          "execution_count": 126
        }
      ]
    },
    {
      "cell_type": "code",
      "source": [
        "# Evaluasi model SVM\n",
        "y_train_pred_svm = svm.predict(X_train_combined)\n",
        "y_test_pred_svm = svm.predict(X_test)\n",
        "y_val_pred_svm = svm.predict(X_val)\n",
        "\n",
        "train_accuracy_svm = accuracy_score(y_train_combined, y_train_pred_svm)\n",
        "test_accuracy_svm = accuracy_score(y_test, y_test_pred_svm)\n",
        "val_accuracy_svm = accuracy_score(y_val, y_val_pred_svm)"
      ],
      "metadata": {
        "id": "oLjV-JEGjsLu"
      },
      "execution_count": 127,
      "outputs": []
    },
    {
      "cell_type": "code",
      "source": [
        "print(f\"Akurasi SVM pada train set: {train_accuracy_svm:.2f}\")\n",
        "print(f\"Akurasi SVM pada test set: {test_accuracy_svm:.2f}\")\n",
        "print(f\"Akurasi SVM pada validation set: {val_accuracy_svm:.2f}\")"
      ],
      "metadata": {
        "colab": {
          "base_uri": "https://localhost:8080/"
        },
        "id": "NV8Z6dsK09NR",
        "outputId": "a7140e4e-47e7-419b-a98e-3a3655f52c70"
      },
      "execution_count": 128,
      "outputs": [
        {
          "output_type": "stream",
          "name": "stdout",
          "text": [
            "Akurasi SVM pada train set: 1.00\n",
            "Akurasi SVM pada test set: 1.00\n",
            "Akurasi SVM pada validation set: 1.00\n"
          ]
        }
      ]
    },
    {
      "cell_type": "code",
      "source": [
        "# Menampilkan confusion matrix dan classification report untuk K-NN\n",
        "print(\"\\nConfusion Matrix K-NN\")\n",
        "conf_matrix_knn = confusion_matrix(y_test, y_test_pred_knn)\n",
        "ConfusionMatrixDisplay(conf_matrix_knn, display_labels=['Matang', 'Mentah', 'Setengah Matang']).plot(cmap=plt.cm.Blues)\n",
        "plt.title('Confusion Matrix - K-NN')\n",
        "plt.show()"
      ],
      "metadata": {
        "colab": {
          "base_uri": "https://localhost:8080/",
          "height": 509
        },
        "id": "80BHBJl31B5p",
        "outputId": "bcf41d60-22a4-4377-d32f-e7ff3f542ede"
      },
      "execution_count": 129,
      "outputs": [
        {
          "output_type": "stream",
          "name": "stdout",
          "text": [
            "\n",
            "Confusion Matrix K-NN\n"
          ]
        },
        {
          "output_type": "display_data",
          "data": {
            "text/plain": [
              "<Figure size 640x480 with 2 Axes>"
            ],
            "image/png": "[encoded data removed]"
          },
          "metadata": {}
        }
      ]
    },
    {
      "cell_type": "code",
      "source": [
        "print(\"\\nClassification Report K-NN\")\n",
        "print(classification_report(y_test, y_test_pred_knn, target_names=['Matang', 'Mentah', 'Setengah Matang']))"
      ],
      "metadata": {
        "colab": {
          "base_uri": "https://localhost:8080/"
        },
        "id": "VvE0Qap91EWM",
        "outputId": "4dc82720-c7ac-4a80-a8c7-09d6fda9bc86"
      },
      "execution_count": 130,
      "outputs": [
        {
          "output_type": "stream",
          "name": "stdout",
          "text": [
            "\n",
            "Classification Report K-NN\n",
            "                 precision    recall  f1-score   support\n",
            "\n",
            "         Matang       0.67      0.80      0.73         5\n",
            "         Mentah       1.00      0.80      0.89         5\n",
            "Setengah Matang       0.80      0.80      0.80         5\n",
            "\n",
            "       accuracy                           0.80        15\n",
            "      macro avg       0.82      0.80      0.81        15\n",
            "   weighted avg       0.82      0.80      0.81        15\n",
            "\n"
          ]
        }
      ]
    },
    {
      "cell_type": "code",
      "source": [
        "# Menampilkan confusion matrix dan classification report untuk SVM\n",
        "print(\"\\nConfusion Matrix SVM\")\n",
        "conf_matrix_svm = confusion_matrix(y_test, y_test_pred_svm)\n",
        "ConfusionMatrixDisplay(conf_matrix_svm, display_labels=['Matang', 'Mentah', 'Setengah Matang']).plot(cmap=plt.cm.Blues)\n",
        "plt.title('Confusion Matrix - SVM')\n",
        "plt.show()"
      ],
      "metadata": {
        "colab": {
          "base_uri": "https://localhost:8080/",
          "height": 509
        },
        "id": "FMB5_1eb1GpY",
        "outputId": "f0cadbb7-493c-4867-f81c-6fb23bad357d"
      },
      "execution_count": 131,
      "outputs": [
        {
          "output_type": "stream",
          "name": "stdout",
          "text": [
            "\n",
            "Confusion Matrix SVM\n"
          ]
        },
        {
          "output_type": "display_data",
          "data": {
            "text/plain": [
              "<Figure size 640x480 with 2 Axes>"
            ],
            "image/png": "[encoded data removed]"
          },
          "metadata": {}
        }
      ]
    },
    {
      "cell_type": "code",
      "source": [
        "print(\"\\nClassification Report SVM\")\n",
        "print(classification_report(y_test, y_test_pred_svm, target_names=['Matang', 'Mentah', 'Setengah Matang']))"
      ],
      "metadata": {
        "colab": {
          "base_uri": "https://localhost:8080/"
        },
        "id": "_QBjqARI1I4Z",
        "outputId": "e750267f-6e5a-4a13-eeec-bcb20c3e3450"
      },
      "execution_count": 132,
      "outputs": [
        {
          "output_type": "stream",
          "name": "stdout",
          "text": [
            "\n",
            "Classification Report SVM\n",
            "                 precision    recall  f1-score   support\n",
            "\n",
            "         Matang       1.00      1.00      1.00         5\n",
            "         Mentah       1.00      1.00      1.00         5\n",
            "Setengah Matang       1.00      1.00      1.00         5\n",
            "\n",
            "       accuracy                           1.00        15\n",
            "      macro avg       1.00      1.00      1.00        15\n",
            "   weighted avg       1.00      1.00      1.00        15\n",
            "\n"
          ]
        }
      ]
    }
  ]
}