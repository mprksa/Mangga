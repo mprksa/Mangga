{
  "nbformat": 4,
  "nbformat_minor": 0,
  "metadata": {
    "colab": {
      "provenance": [],
      "authorship_tag": "ABX9TyP/rr7KadhjwSPk4Xm5ocWO",
      "include_colab_link": true
    },
    "kernelspec": {
      "name": "python3",
      "display_name": "Python 3"
    },
    "language_info": {
      "name": "python"
    }
  },
  "cells": [
    {
      "cell_type": "markdown",
      "metadata": {
        "id": "view-in-github",
        "colab_type": "text"
      },
      "source": [
        "<a href=\"https://colab.research.google.com/github/mprksa/Mangga/blob/main/Mangga_RF.ipynb\" target=\"_parent\"><img src=\"https://colab.research.google.com/assets/colab-badge.svg\" alt=\"Open In Colab\"/></a>"
      ]
    },
    {
      "cell_type": "code",
      "execution_count": 104,
      "metadata": {
        "id": "5i8WAM5djWFq"
      },
      "outputs": [],
      "source": [
        "import os\n",
        "import numpy as np\n",
        "from sklearn.ensemble import RandomForestClassifier\n",
        "from sklearn.metrics import confusion_matrix, classification_report, ConfusionMatrixDisplay, accuracy_score\n",
        "import matplotlib.pyplot as plt\n",
        "from PIL import Image, ImageEnhance"
      ]
    },
    {
      "cell_type": "code",
      "source": [
        "!git clone https://github.com/mprksa/Mangga.git"
      ],
      "metadata": {
        "colab": {
          "base_uri": "https://localhost:8080/"
        },
        "id": "7e3qkBnaj5E_",
        "outputId": "3dba1120-4b2c-4ff6-e848-d0f70f0aaae2"
      },
      "execution_count": 2,
      "outputs": [
        {
          "output_type": "stream",
          "name": "stdout",
          "text": [
            "Cloning into 'Mangga'...\n",
            "remote: Enumerating objects: 117, done.\u001b[K\n",
            "remote: Counting objects: 100% (117/117), done.\u001b[K\n",
            "remote: Compressing objects: 100% (113/113), done.\u001b[K\n",
            "remote: Total 117 (delta 32), reused 0 (delta 0), pack-reused 0\u001b[K\n",
            "Receiving objects: 100% (117/117), 1.98 MiB | 6.97 MiB/s, done.\n",
            "Resolving deltas: 100% (32/32), done.\n"
          ]
        }
      ]
    },
    {
      "cell_type": "code",
      "source": [
        "# Fungsi untuk augmentasi gambar\n",
        "def augment_image(image):\n",
        "    # Rotasi acak\n",
        "    angle = np.random.uniform(-15, 15)\n",
        "    image = image.rotate(angle)\n",
        "    # Penambahan kontras\n",
        "    enhancer = ImageEnhance.Contrast(image)\n",
        "    image = enhancer.enhance(np.random.uniform(0.8, 1.2))\n",
        "    return image\n",
        "\n",
        "# Fungsi untuk membaca dan mengaugmentasi gambar\n",
        "def load_images_from_folder(folder, augment=False):\n",
        "    images = []\n",
        "    labels = []\n",
        "    for label, category in enumerate(['mangga_matang', 'mangga_mentah', 'mangga_setengah_matang']):\n",
        "        category_folder = os.path.join(folder, category)\n",
        "        for filename in os.listdir(category_folder):\n",
        "            img_path = os.path.join(category_folder, filename)\n",
        "            try:\n",
        "                image = Image.open(img_path)\n",
        "                image = image.convert('RGB')  # Konversi ke RGB\n",
        "                if augment:\n",
        "                    image = augment_image(image)\n",
        "                image = image.resize((64, 64))  # Ubah ukuran gambar jika perlu\n",
        "                image_np = np.array(image).flatten()\n",
        "                images.append(image_np)\n",
        "                labels.append(label)\n",
        "            except Exception as e:\n",
        "                print(f\"Error processing file {img_path}: {e}\")\n",
        "    return np.array(images), np.array(labels)"
      ],
      "metadata": {
        "id": "zMuZJhm5jZO0"
      },
      "execution_count": 105,
      "outputs": []
    },
    {
      "cell_type": "code",
      "source": [
        "# Folder dataset\n",
        "dataset_base_folder = 'Mangga'"
      ],
      "metadata": {
        "id": "mJNGd1qCjfYs"
      },
      "execution_count": 106,
      "outputs": []
    },
    {
      "cell_type": "code",
      "source": [
        "# Membaca data train, test, dan validation\n",
        "X_train, y_train = load_images_from_folder(os.path.join(dataset_base_folder, 'train'))\n",
        "X_test, y_test = load_images_from_folder(os.path.join(dataset_base_folder, 'test'))\n",
        "X_val, y_val = load_images_from_folder(os.path.join(dataset_base_folder, 'validation'))"
      ],
      "metadata": {
        "id": "O2OcJxN5jhKS"
      },
      "execution_count": 107,
      "outputs": []
    },
    {
      "cell_type": "code",
      "source": [
        "# Augmentasi data train\n",
        "X_train_augmented, y_train_augmented = load_images_from_folder(os.path.join(dataset_base_folder, 'train'), augment=True)"
      ],
      "metadata": {
        "id": "k3jsUC_ojkoO"
      },
      "execution_count": 108,
      "outputs": []
    },
    {
      "cell_type": "code",
      "source": [
        "# Kombinasikan data asli dan augmentasi\n",
        "X_train_combined = np.vstack((X_train, X_train_augmented))\n",
        "y_train_combined = np.hstack((y_train, y_train_augmented))"
      ],
      "metadata": {
        "id": "QoqA02i9jnzb"
      },
      "execution_count": 109,
      "outputs": []
    },
    {
      "cell_type": "code",
      "source": [
        "# Tampilkan jumlah gambar di setiap set\n",
        "print(f\"Jumlah gambar di train set (asli): {len(X_train)}\")\n",
        "print(f\"Jumlah gambar di train set (augmentasi): {len(X_train_augmented)}\")\n",
        "print(f\"Jumlah total gambar di train set: {len(X_train_combined)}\")\n",
        "print(f\"Jumlah gambar di test set: {len(X_test)}\")\n",
        "print(f\"Jumlah gambar di validation set: {len(X_val)}\")"
      ],
      "metadata": {
        "colab": {
          "base_uri": "https://localhost:8080/"
        },
        "id": "N2VW4zyRtR-S",
        "outputId": "a8c5fe5e-6d20-44e7-b1fc-3bd7db2963e2"
      },
      "execution_count": 110,
      "outputs": [
        {
          "output_type": "stream",
          "name": "stdout",
          "text": [
            "Jumlah gambar di train set (asli): 15\n",
            "Jumlah gambar di train set (augmentasi): 15\n",
            "Jumlah total gambar di train set: 30\n",
            "Jumlah gambar di test set: 15\n",
            "Jumlah gambar di validation set: 15\n"
          ]
        }
      ]
    },
    {
      "cell_type": "code",
      "source": [
        "# Inisialisasi dan training model Random Forest\n",
        "rf = RandomForestClassifier(n_estimators=100, random_state=42)  # Inisialisasi Random Forest\n",
        "rf.fit(X_train_combined, y_train_combined)"
      ],
      "metadata": {
        "colab": {
          "base_uri": "https://localhost:8080/",
          "height": 75
        },
        "id": "UBsWinfBtWvD",
        "outputId": "277420aa-cb6d-4ec0-de49-5f3031ff7eb2"
      },
      "execution_count": 111,
      "outputs": [
        {
          "output_type": "execute_result",
          "data": {
            "text/plain": [
              "RandomForestClassifier(random_state=42)"
            ],
            "text/html": [
              "<style>#sk-container-id-6 {color: black;background-color: white;}#sk-container-id-6 pre{padding: 0;}#sk-container-id-6 div.sk-toggleable {background-color: white;}#sk-container-id-6 label.sk-toggleable__label {cursor: pointer;display: block;width: 100%;margin-bottom: 0;padding: 0.3em;box-sizing: border-box;text-align: center;}#sk-container-id-6 label.sk-toggleable__label-arrow:before {content: \"▸\";float: left;margin-right: 0.25em;color: #696969;}#sk-container-id-6 label.sk-toggleable__label-arrow:hover:before {color: black;}#sk-container-id-6 div.sk-estimator:hover label.sk-toggleable__label-arrow:before {color: black;}#sk-container-id-6 div.sk-toggleable__content {max-height: 0;max-width: 0;overflow: hidden;text-align: left;background-color: #f0f8ff;}#sk-container-id-6 div.sk-toggleable__content pre {margin: 0.2em;color: black;border-radius: 0.25em;background-color: #f0f8ff;}#sk-container-id-6 input.sk-toggleable__control:checked~div.sk-toggleable__content {max-height: 200px;max-width: 100%;overflow: auto;}#sk-container-id-6 input.sk-toggleable__control:checked~label.sk-toggleable__label-arrow:before {content: \"▾\";}#sk-container-id-6 div.sk-estimator input.sk-toggleable__control:checked~label.sk-toggleable__label {background-color: #d4ebff;}#sk-container-id-6 div.sk-label input.sk-toggleable__control:checked~label.sk-toggleable__label {background-color: #d4ebff;}#sk-container-id-6 input.sk-hidden--visually {border: 0;clip: rect(1px 1px 1px 1px);clip: rect(1px, 1px, 1px, 1px);height: 1px;margin: -1px;overflow: hidden;padding: 0;position: absolute;width: 1px;}#sk-container-id-6 div.sk-estimator {font-family: monospace;background-color: #f0f8ff;border: 1px dotted black;border-radius: 0.25em;box-sizing: border-box;margin-bottom: 0.5em;}#sk-container-id-6 div.sk-estimator:hover {background-color: #d4ebff;}#sk-container-id-6 div.sk-parallel-item::after {content: \"\";width: 100%;border-bottom: 1px solid gray;flex-grow: 1;}#sk-container-id-6 div.sk-label:hover label.sk-toggleable__label {background-color: #d4ebff;}#sk-container-id-6 div.sk-serial::before {content: \"\";position: absolute;border-left: 1px solid gray;box-sizing: border-box;top: 0;bottom: 0;left: 50%;z-index: 0;}#sk-container-id-6 div.sk-serial {display: flex;flex-direction: column;align-items: center;background-color: white;padding-right: 0.2em;padding-left: 0.2em;position: relative;}#sk-container-id-6 div.sk-item {position: relative;z-index: 1;}#sk-container-id-6 div.sk-parallel {display: flex;align-items: stretch;justify-content: center;background-color: white;position: relative;}#sk-container-id-6 div.sk-item::before, #sk-container-id-6 div.sk-parallel-item::before {content: \"\";position: absolute;border-left: 1px solid gray;box-sizing: border-box;top: 0;bottom: 0;left: 50%;z-index: -1;}#sk-container-id-6 div.sk-parallel-item {display: flex;flex-direction: column;z-index: 1;position: relative;background-color: white;}#sk-container-id-6 div.sk-parallel-item:first-child::after {align-self: flex-end;width: 50%;}#sk-container-id-6 div.sk-parallel-item:last-child::after {align-self: flex-start;width: 50%;}#sk-container-id-6 div.sk-parallel-item:only-child::after {width: 0;}#sk-container-id-6 div.sk-dashed-wrapped {border: 1px dashed gray;margin: 0 0.4em 0.5em 0.4em;box-sizing: border-box;padding-bottom: 0.4em;background-color: white;}#sk-container-id-6 div.sk-label label {font-family: monospace;font-weight: bold;display: inline-block;line-height: 1.2em;}#sk-container-id-6 div.sk-label-container {text-align: center;}#sk-container-id-6 div.sk-container {/* jupyter's `normalize.less` sets `[hidden] { display: none; }` but bootstrap.min.css set `[hidden] { display: none !important; }` so we also need the `!important` here to be able to override the default hidden behavior on the sphinx rendered scikit-learn.org. See: https://github.com/scikit-learn/scikit-learn/issues/21755 */display: inline-block !important;position: relative;}#sk-container-id-6 div.sk-text-repr-fallback {display: none;}</style><div id=\"sk-container-id-6\" class=\"sk-top-container\"><div class=\"sk-text-repr-fallback\"><pre>RandomForestClassifier(random_state=42)</pre><b>In a Jupyter environment, please rerun this cell to show the HTML representation or trust the notebook. <br />On GitHub, the HTML representation is unable to render, please try loading this page with nbviewer.org.</b></div><div class=\"sk-container\" hidden><div class=\"sk-item\"><div class=\"sk-estimator sk-toggleable\"><input class=\"sk-toggleable__control sk-hidden--visually\" id=\"sk-estimator-id-6\" type=\"checkbox\" checked><label for=\"sk-estimator-id-6\" class=\"sk-toggleable__label sk-toggleable__label-arrow\">RandomForestClassifier</label><div class=\"sk-toggleable__content\"><pre>RandomForestClassifier(random_state=42)</pre></div></div></div></div></div>"
            ]
          },
          "metadata": {},
          "execution_count": 111
        }
      ]
    },
    {
      "cell_type": "code",
      "source": [
        "# Evaluasi model pada train set\n",
        "y_train_pred = tree.predict(X_train_combined)\n",
        "train_accuracy = accuracy_score(y_train_combined, y_train_pred)\n",
        "# Evaluasi model pada test set\n",
        "y_test_pred = tree.predict(X_test)\n",
        "test_accuracy = accuracy_score(y_test, y_test_pred)\n",
        "# Evaluasi model pada validation set\n",
        "y_val_pred = tree.predict(X_val)\n",
        "val_accuracy = accuracy_score(y_val, y_val_pred)"
      ],
      "metadata": {
        "id": "CMwaAGDGtcjU"
      },
      "execution_count": 112,
      "outputs": []
    },
    {
      "cell_type": "code",
      "source": [
        "print(f\"Akurasi pada train set: {train_accuracy:.2f}\")\n",
        "print(f\"Akurasi pada test set: {test_accuracy:.2f}\")\n",
        "print(f\"Akurasi pada validation set: {val_accuracy:.2f}\")"
      ],
      "metadata": {
        "colab": {
          "base_uri": "https://localhost:8080/"
        },
        "id": "7EWQyvrFwrRS",
        "outputId": "f21adb36-81ce-4005-e3f9-e937d998db38"
      },
      "execution_count": 113,
      "outputs": [
        {
          "output_type": "stream",
          "name": "stdout",
          "text": [
            "Akurasi pada train set: 0.90\n",
            "Akurasi pada test set: 1.00\n",
            "Akurasi pada validation set: 1.00\n"
          ]
        }
      ]
    },
    {
      "cell_type": "code",
      "source": [
        "# Menampilkan confusion matrix\n",
        "conf_matrix = confusion_matrix(y_test, y_test_pred)\n",
        "ConfusionMatrixDisplay(conf_matrix, display_labels=['Matang', 'Mentah', 'Setengah Matang']).plot(cmap=plt.cm.Blues)\n",
        "plt.title('Confusion Matrix')\n",
        "plt.show()"
      ],
      "metadata": {
        "colab": {
          "base_uri": "https://localhost:8080/",
          "height": 472
        },
        "id": "CG603yRhjqXi",
        "outputId": "d2e234f6-5404-4f40-dd83-7a95ad301e09"
      },
      "execution_count": 114,
      "outputs": [
        {
          "output_type": "display_data",
          "data": {
            "text/plain": [
              "<Figure size 640x480 with 2 Axes>"
            ],
            "image/png": "[encoded data removed]"
          },
          "metadata": {}
        }
      ]
    },
    {
      "cell_type": "code",
      "source": [
        "# Menampilkan classification report\n",
        "print(classification_report(y_test, y_test_pred, target_names=['Matang', 'Mentah', 'Setengah Matang']))"
      ],
      "metadata": {
        "colab": {
          "base_uri": "https://localhost:8080/"
        },
        "id": "oLjV-JEGjsLu",
        "outputId": "ccbca7e6-330a-4d6e-a94e-875d3ed4a472"
      },
      "execution_count": 115,
      "outputs": [
        {
          "output_type": "stream",
          "name": "stdout",
          "text": [
            "                 precision    recall  f1-score   support\n",
            "\n",
            "         Matang       1.00      1.00      1.00         5\n",
            "         Mentah       1.00      1.00      1.00         5\n",
            "Setengah Matang       1.00      1.00      1.00         5\n",
            "\n",
            "       accuracy                           1.00        15\n",
            "      macro avg       1.00      1.00      1.00        15\n",
            "   weighted avg       1.00      1.00      1.00        15\n",
            "\n"
          ]
        }
      ]
    }
  ]
}