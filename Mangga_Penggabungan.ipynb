{
  "nbformat": 4,
  "nbformat_minor": 0,
  "metadata": {
    "colab": {
      "provenance": [],
      "authorship_tag": "ABX9TyP1EsgXfpfW31gJlqhstcDi",
      "include_colab_link": true
    },
    "kernelspec": {
      "name": "python3",
      "display_name": "Python 3"
    },
    "language_info": {
      "name": "python"
    }
  },
  "cells": [
    {
      "cell_type": "markdown",
      "metadata": {
        "id": "view-in-github",
        "colab_type": "text"
      },
      "source": [
        "<a href=\"https://colab.research.google.com/github/mprksa/Mangga/blob/main/Mangga_Penggabungan.ipynb\" target=\"_parent\"><img src=\"https://colab.research.google.com/assets/colab-badge.svg\" alt=\"Open In Colab\"/></a>"
      ]
    },
    {
      "cell_type": "code",
      "execution_count": 134,
      "metadata": {
        "id": "5i8WAM5djWFq"
      },
      "outputs": [],
      "source": [
        "import os\n",
        "import numpy as np\n",
        "from sklearn.neighbors import KNeighborsClassifier\n",
        "from sklearn.svm import SVC\n",
        "from sklearn.naive_bayes import GaussianNB\n",
        "from sklearn.tree import DecisionTreeClassifier\n",
        "from sklearn.ensemble import RandomForestClassifier\n",
        "from sklearn.metrics import confusion_matrix, classification_report, ConfusionMatrixDisplay, accuracy_score\n",
        "import matplotlib.pyplot as plt\n",
        "from PIL import Image, ImageEnhance"
      ]
    },
    {
      "cell_type": "code",
      "source": [
        "!git clone https://github.com/mprksa/Mangga.git"
      ],
      "metadata": {
        "colab": {
          "base_uri": "https://localhost:8080/"
        },
        "id": "7e3qkBnaj5E_",
        "outputId": "3dba1120-4b2c-4ff6-e848-d0f70f0aaae2"
      },
      "execution_count": 2,
      "outputs": [
        {
          "output_type": "stream",
          "name": "stdout",
          "text": [
            "Cloning into 'Mangga'...\n",
            "remote: Enumerating objects: 117, done.\u001b[K\n",
            "remote: Counting objects: 100% (117/117), done.\u001b[K\n",
            "remote: Compressing objects: 100% (113/113), done.\u001b[K\n",
            "remote: Total 117 (delta 32), reused 0 (delta 0), pack-reused 0\u001b[K\n",
            "Receiving objects: 100% (117/117), 1.98 MiB | 6.97 MiB/s, done.\n",
            "Resolving deltas: 100% (32/32), done.\n"
          ]
        }
      ]
    },
    {
      "cell_type": "code",
      "source": [
        "# Fungsi untuk augmentasi gambar\n",
        "def augment_image(image):\n",
        "    # Rotasi acak\n",
        "    angle = np.random.uniform(-15, 15)\n",
        "    image = image.rotate(angle)\n",
        "    # Penambahan kontras\n",
        "    enhancer = ImageEnhance.Contrast(image)\n",
        "    image = enhancer.enhance(np.random.uniform(0.8, 1.2))\n",
        "    return image\n",
        "\n",
        "# Fungsi untuk membaca dan mengaugmentasi gambar\n",
        "def load_images_from_folder(folder, augment=False):\n",
        "    images = []\n",
        "    labels = []\n",
        "    for label, category in enumerate(['mangga_matang', 'mangga_mentah', 'mangga_setengah_matang']):\n",
        "        category_folder = os.path.join(folder, category)\n",
        "        for filename in os.listdir(category_folder):\n",
        "            img_path = os.path.join(category_folder, filename)\n",
        "            try:\n",
        "                image = Image.open(img_path)\n",
        "                image = image.convert('RGB')  # Konversi ke RGB\n",
        "                if augment:\n",
        "                    image = augment_image(image)\n",
        "                image = image.resize((64, 64))  # Ubah ukuran gambar jika perlu\n",
        "                image_np = np.array(image).flatten()\n",
        "                images.append(image_np)\n",
        "                labels.append(label)\n",
        "            except Exception as e:\n",
        "                print(f\"Error processing file {img_path}: {e}\")\n",
        "    return np.array(images), np.array(labels)"
      ],
      "metadata": {
        "id": "zMuZJhm5jZO0"
      },
      "execution_count": 135,
      "outputs": []
    },
    {
      "cell_type": "code",
      "source": [
        "# Folder dataset\n",
        "dataset_base_folder = 'Mangga'"
      ],
      "metadata": {
        "id": "mJNGd1qCjfYs"
      },
      "execution_count": 136,
      "outputs": []
    },
    {
      "cell_type": "code",
      "source": [
        "# Membaca data train, test, dan validation\n",
        "X_train, y_train = load_images_from_folder(os.path.join(dataset_base_folder, 'train'))\n",
        "X_test, y_test = load_images_from_folder(os.path.join(dataset_base_folder, 'test'))\n",
        "X_val, y_val = load_images_from_folder(os.path.join(dataset_base_folder, 'validation'))"
      ],
      "metadata": {
        "id": "O2OcJxN5jhKS"
      },
      "execution_count": 137,
      "outputs": []
    },
    {
      "cell_type": "code",
      "source": [
        "# Augmentasi data train\n",
        "X_train_augmented, y_train_augmented = load_images_from_folder(os.path.join(dataset_base_folder, 'train'), augment=True)"
      ],
      "metadata": {
        "id": "k3jsUC_ojkoO"
      },
      "execution_count": 138,
      "outputs": []
    },
    {
      "cell_type": "code",
      "source": [
        "# Kombinasikan data asli dan augmentasi\n",
        "X_train_combined = np.vstack((X_train, X_train_augmented))\n",
        "y_train_combined = np.hstack((y_train, y_train_augmented))"
      ],
      "metadata": {
        "id": "QoqA02i9jnzb"
      },
      "execution_count": 139,
      "outputs": []
    },
    {
      "cell_type": "code",
      "source": [
        "# Tampilkan jumlah gambar di setiap set\n",
        "print(f\"Jumlah gambar di train set (asli): {len(X_train)}\")\n",
        "print(f\"Jumlah gambar di train set (augmentasi): {len(X_train_augmented)}\")\n",
        "print(f\"Jumlah total gambar di train set: {len(X_train_combined)}\")\n",
        "print(f\"Jumlah gambar di test set: {len(X_test)}\")\n",
        "print(f\"Jumlah gambar di validation set: {len(X_val)}\")"
      ],
      "metadata": {
        "colab": {
          "base_uri": "https://localhost:8080/"
        },
        "id": "N2VW4zyRtR-S",
        "outputId": "2a1d53da-3a66-4157-ddf6-d6981d61675d"
      },
      "execution_count": 140,
      "outputs": [
        {
          "output_type": "stream",
          "name": "stdout",
          "text": [
            "Jumlah gambar di train set (asli): 15\n",
            "Jumlah gambar di train set (augmentasi): 15\n",
            "Jumlah total gambar di train set: 30\n",
            "Jumlah gambar di test set: 15\n",
            "Jumlah gambar di validation set: 15\n"
          ]
        }
      ]
    },
    {
      "cell_type": "code",
      "source": [
        "# Inisialisasi dan training model K-NN\n",
        "knn = KNeighborsClassifier(n_neighbors=3)\n",
        "knn.fit(X_train_combined, y_train_combined)"
      ],
      "metadata": {
        "colab": {
          "base_uri": "https://localhost:8080/",
          "height": 75
        },
        "id": "UBsWinfBtWvD",
        "outputId": "d1e2f77c-74d8-43a8-e2ab-378c736345c2"
      },
      "execution_count": 141,
      "outputs": [
        {
          "output_type": "execute_result",
          "data": {
            "text/plain": [
              "KNeighborsClassifier(n_neighbors=3)"
            ],
            "text/html": [
              "<style>#sk-container-id-9 {color: black;background-color: white;}#sk-container-id-9 pre{padding: 0;}#sk-container-id-9 div.sk-toggleable {background-color: white;}#sk-container-id-9 label.sk-toggleable__label {cursor: pointer;display: block;width: 100%;margin-bottom: 0;padding: 0.3em;box-sizing: border-box;text-align: center;}#sk-container-id-9 label.sk-toggleable__label-arrow:before {content: \"▸\";float: left;margin-right: 0.25em;color: #696969;}#sk-container-id-9 label.sk-toggleable__label-arrow:hover:before {color: black;}#sk-container-id-9 div.sk-estimator:hover label.sk-toggleable__label-arrow:before {color: black;}#sk-container-id-9 div.sk-toggleable__content {max-height: 0;max-width: 0;overflow: hidden;text-align: left;background-color: #f0f8ff;}#sk-container-id-9 div.sk-toggleable__content pre {margin: 0.2em;color: black;border-radius: 0.25em;background-color: #f0f8ff;}#sk-container-id-9 input.sk-toggleable__control:checked~div.sk-toggleable__content {max-height: 200px;max-width: 100%;overflow: auto;}#sk-container-id-9 input.sk-toggleable__control:checked~label.sk-toggleable__label-arrow:before {content: \"▾\";}#sk-container-id-9 div.sk-estimator input.sk-toggleable__control:checked~label.sk-toggleable__label {background-color: #d4ebff;}#sk-container-id-9 div.sk-label input.sk-toggleable__control:checked~label.sk-toggleable__label {background-color: #d4ebff;}#sk-container-id-9 input.sk-hidden--visually {border: 0;clip: rect(1px 1px 1px 1px);clip: rect(1px, 1px, 1px, 1px);height: 1px;margin: -1px;overflow: hidden;padding: 0;position: absolute;width: 1px;}#sk-container-id-9 div.sk-estimator {font-family: monospace;background-color: #f0f8ff;border: 1px dotted black;border-radius: 0.25em;box-sizing: border-box;margin-bottom: 0.5em;}#sk-container-id-9 div.sk-estimator:hover {background-color: #d4ebff;}#sk-container-id-9 div.sk-parallel-item::after {content: \"\";width: 100%;border-bottom: 1px solid gray;flex-grow: 1;}#sk-container-id-9 div.sk-label:hover label.sk-toggleable__label {background-color: #d4ebff;}#sk-container-id-9 div.sk-serial::before {content: \"\";position: absolute;border-left: 1px solid gray;box-sizing: border-box;top: 0;bottom: 0;left: 50%;z-index: 0;}#sk-container-id-9 div.sk-serial {display: flex;flex-direction: column;align-items: center;background-color: white;padding-right: 0.2em;padding-left: 0.2em;position: relative;}#sk-container-id-9 div.sk-item {position: relative;z-index: 1;}#sk-container-id-9 div.sk-parallel {display: flex;align-items: stretch;justify-content: center;background-color: white;position: relative;}#sk-container-id-9 div.sk-item::before, #sk-container-id-9 div.sk-parallel-item::before {content: \"\";position: absolute;border-left: 1px solid gray;box-sizing: border-box;top: 0;bottom: 0;left: 50%;z-index: -1;}#sk-container-id-9 div.sk-parallel-item {display: flex;flex-direction: column;z-index: 1;position: relative;background-color: white;}#sk-container-id-9 div.sk-parallel-item:first-child::after {align-self: flex-end;width: 50%;}#sk-container-id-9 div.sk-parallel-item:last-child::after {align-self: flex-start;width: 50%;}#sk-container-id-9 div.sk-parallel-item:only-child::after {width: 0;}#sk-container-id-9 div.sk-dashed-wrapped {border: 1px dashed gray;margin: 0 0.4em 0.5em 0.4em;box-sizing: border-box;padding-bottom: 0.4em;background-color: white;}#sk-container-id-9 div.sk-label label {font-family: monospace;font-weight: bold;display: inline-block;line-height: 1.2em;}#sk-container-id-9 div.sk-label-container {text-align: center;}#sk-container-id-9 div.sk-container {/* jupyter's `normalize.less` sets `[hidden] { display: none; }` but bootstrap.min.css set `[hidden] { display: none !important; }` so we also need the `!important` here to be able to override the default hidden behavior on the sphinx rendered scikit-learn.org. See: https://github.com/scikit-learn/scikit-learn/issues/21755 */display: inline-block !important;position: relative;}#sk-container-id-9 div.sk-text-repr-fallback {display: none;}</style><div id=\"sk-container-id-9\" class=\"sk-top-container\"><div class=\"sk-text-repr-fallback\"><pre>KNeighborsClassifier(n_neighbors=3)</pre><b>In a Jupyter environment, please rerun this cell to show the HTML representation or trust the notebook. <br />On GitHub, the HTML representation is unable to render, please try loading this page with nbviewer.org.</b></div><div class=\"sk-container\" hidden><div class=\"sk-item\"><div class=\"sk-estimator sk-toggleable\"><input class=\"sk-toggleable__control sk-hidden--visually\" id=\"sk-estimator-id-9\" type=\"checkbox\" checked><label for=\"sk-estimator-id-9\" class=\"sk-toggleable__label sk-toggleable__label-arrow\">KNeighborsClassifier</label><div class=\"sk-toggleable__content\"><pre>KNeighborsClassifier(n_neighbors=3)</pre></div></div></div></div></div>"
            ]
          },
          "metadata": {},
          "execution_count": 141
        }
      ]
    },
    {
      "cell_type": "code",
      "source": [
        "# Evaluasi model K-NN\n",
        "y_train_pred_knn = knn.predict(X_train_combined)\n",
        "y_test_pred_knn = knn.predict(X_test)\n",
        "y_val_pred_knn = knn.predict(X_val)\n",
        "\n",
        "train_accuracy_knn = accuracy_score(y_train_combined, y_train_pred_knn)\n",
        "test_accuracy_knn = accuracy_score(y_test, y_test_pred_knn)\n",
        "val_accuracy_knn = accuracy_score(y_val, y_val_pred_knn)"
      ],
      "metadata": {
        "id": "CMwaAGDGtcjU"
      },
      "execution_count": 142,
      "outputs": []
    },
    {
      "cell_type": "code",
      "source": [
        "print(f\"Akurasi K-NN pada train set: {train_accuracy_knn:.2f}\")\n",
        "print(f\"Akurasi K-NN pada test set: {test_accuracy_knn:.2f}\")\n",
        "print(f\"Akurasi K-NN pada validation set: {val_accuracy_knn:.2f}\")"
      ],
      "metadata": {
        "colab": {
          "base_uri": "https://localhost:8080/"
        },
        "id": "7EWQyvrFwrRS",
        "outputId": "62b14916-f74e-4978-88a2-9f6c60289629"
      },
      "execution_count": 144,
      "outputs": [
        {
          "output_type": "stream",
          "name": "stdout",
          "text": [
            "Akurasi K-NN pada train set: 0.83\n",
            "Akurasi K-NN pada test set: 0.80\n",
            "Akurasi K-NN pada validation set: 0.80\n"
          ]
        }
      ]
    },
    {
      "cell_type": "code",
      "source": [
        "# Inisialisasi dan training model SVM\n",
        "svm = SVC(kernel='linear')\n",
        "svm.fit(X_train_combined, y_train_combined)"
      ],
      "metadata": {
        "colab": {
          "base_uri": "https://localhost:8080/",
          "height": 75
        },
        "id": "CG603yRhjqXi",
        "outputId": "9bcca3da-2889-4f88-9480-22a41e94f26a"
      },
      "execution_count": 145,
      "outputs": [
        {
          "output_type": "execute_result",
          "data": {
            "text/plain": [
              "SVC(kernel='linear')"
            ],
            "text/html": [
              "<style>#sk-container-id-10 {color: black;background-color: white;}#sk-container-id-10 pre{padding: 0;}#sk-container-id-10 div.sk-toggleable {background-color: white;}#sk-container-id-10 label.sk-toggleable__label {cursor: pointer;display: block;width: 100%;margin-bottom: 0;padding: 0.3em;box-sizing: border-box;text-align: center;}#sk-container-id-10 label.sk-toggleable__label-arrow:before {content: \"▸\";float: left;margin-right: 0.25em;color: #696969;}#sk-container-id-10 label.sk-toggleable__label-arrow:hover:before {color: black;}#sk-container-id-10 div.sk-estimator:hover label.sk-toggleable__label-arrow:before {color: black;}#sk-container-id-10 div.sk-toggleable__content {max-height: 0;max-width: 0;overflow: hidden;text-align: left;background-color: #f0f8ff;}#sk-container-id-10 div.sk-toggleable__content pre {margin: 0.2em;color: black;border-radius: 0.25em;background-color: #f0f8ff;}#sk-container-id-10 input.sk-toggleable__control:checked~div.sk-toggleable__content {max-height: 200px;max-width: 100%;overflow: auto;}#sk-container-id-10 input.sk-toggleable__control:checked~label.sk-toggleable__label-arrow:before {content: \"▾\";}#sk-container-id-10 div.sk-estimator input.sk-toggleable__control:checked~label.sk-toggleable__label {background-color: #d4ebff;}#sk-container-id-10 div.sk-label input.sk-toggleable__control:checked~label.sk-toggleable__label {background-color: #d4ebff;}#sk-container-id-10 input.sk-hidden--visually {border: 0;clip: rect(1px 1px 1px 1px);clip: rect(1px, 1px, 1px, 1px);height: 1px;margin: -1px;overflow: hidden;padding: 0;position: absolute;width: 1px;}#sk-container-id-10 div.sk-estimator {font-family: monospace;background-color: #f0f8ff;border: 1px dotted black;border-radius: 0.25em;box-sizing: border-box;margin-bottom: 0.5em;}#sk-container-id-10 div.sk-estimator:hover {background-color: #d4ebff;}#sk-container-id-10 div.sk-parallel-item::after {content: \"\";width: 100%;border-bottom: 1px solid gray;flex-grow: 1;}#sk-container-id-10 div.sk-label:hover label.sk-toggleable__label {background-color: #d4ebff;}#sk-container-id-10 div.sk-serial::before {content: \"\";position: absolute;border-left: 1px solid gray;box-sizing: border-box;top: 0;bottom: 0;left: 50%;z-index: 0;}#sk-container-id-10 div.sk-serial {display: flex;flex-direction: column;align-items: center;background-color: white;padding-right: 0.2em;padding-left: 0.2em;position: relative;}#sk-container-id-10 div.sk-item {position: relative;z-index: 1;}#sk-container-id-10 div.sk-parallel {display: flex;align-items: stretch;justify-content: center;background-color: white;position: relative;}#sk-container-id-10 div.sk-item::before, #sk-container-id-10 div.sk-parallel-item::before {content: \"\";position: absolute;border-left: 1px solid gray;box-sizing: border-box;top: 0;bottom: 0;left: 50%;z-index: -1;}#sk-container-id-10 div.sk-parallel-item {display: flex;flex-direction: column;z-index: 1;position: relative;background-color: white;}#sk-container-id-10 div.sk-parallel-item:first-child::after {align-self: flex-end;width: 50%;}#sk-container-id-10 div.sk-parallel-item:last-child::after {align-self: flex-start;width: 50%;}#sk-container-id-10 div.sk-parallel-item:only-child::after {width: 0;}#sk-container-id-10 div.sk-dashed-wrapped {border: 1px dashed gray;margin: 0 0.4em 0.5em 0.4em;box-sizing: border-box;padding-bottom: 0.4em;background-color: white;}#sk-container-id-10 div.sk-label label {font-family: monospace;font-weight: bold;display: inline-block;line-height: 1.2em;}#sk-container-id-10 div.sk-label-container {text-align: center;}#sk-container-id-10 div.sk-container {/* jupyter's `normalize.less` sets `[hidden] { display: none; }` but bootstrap.min.css set `[hidden] { display: none !important; }` so we also need the `!important` here to be able to override the default hidden behavior on the sphinx rendered scikit-learn.org. See: https://github.com/scikit-learn/scikit-learn/issues/21755 */display: inline-block !important;position: relative;}#sk-container-id-10 div.sk-text-repr-fallback {display: none;}</style><div id=\"sk-container-id-10\" class=\"sk-top-container\"><div class=\"sk-text-repr-fallback\"><pre>SVC(kernel=&#x27;linear&#x27;)</pre><b>In a Jupyter environment, please rerun this cell to show the HTML representation or trust the notebook. <br />On GitHub, the HTML representation is unable to render, please try loading this page with nbviewer.org.</b></div><div class=\"sk-container\" hidden><div class=\"sk-item\"><div class=\"sk-estimator sk-toggleable\"><input class=\"sk-toggleable__control sk-hidden--visually\" id=\"sk-estimator-id-10\" type=\"checkbox\" checked><label for=\"sk-estimator-id-10\" class=\"sk-toggleable__label sk-toggleable__label-arrow\">SVC</label><div class=\"sk-toggleable__content\"><pre>SVC(kernel=&#x27;linear&#x27;)</pre></div></div></div></div></div>"
            ]
          },
          "metadata": {},
          "execution_count": 145
        }
      ]
    },
    {
      "cell_type": "code",
      "source": [
        "# Evaluasi model SVM\n",
        "y_train_pred_svm = svm.predict(X_train_combined)\n",
        "y_test_pred_svm = svm.predict(X_test)\n",
        "y_val_pred_svm = svm.predict(X_val)\n",
        "\n",
        "train_accuracy_svm = accuracy_score(y_train_combined, y_train_pred_svm)\n",
        "test_accuracy_svm = accuracy_score(y_test, y_test_pred_svm)\n",
        "val_accuracy_svm = accuracy_score(y_val, y_val_pred_svm)"
      ],
      "metadata": {
        "id": "oLjV-JEGjsLu"
      },
      "execution_count": 146,
      "outputs": []
    },
    {
      "cell_type": "code",
      "source": [
        "print(f\"Akurasi SVM pada train set: {train_accuracy_svm:.2f}\")\n",
        "print(f\"Akurasi SVM pada test set: {test_accuracy_svm:.2f}\")\n",
        "print(f\"Akurasi SVM pada validation set: {val_accuracy_svm:.2f}\")"
      ],
      "metadata": {
        "colab": {
          "base_uri": "https://localhost:8080/"
        },
        "id": "NV8Z6dsK09NR",
        "outputId": "1374d129-47ec-4336-97ec-ff82e888226e"
      },
      "execution_count": 147,
      "outputs": [
        {
          "output_type": "stream",
          "name": "stdout",
          "text": [
            "Akurasi SVM pada train set: 1.00\n",
            "Akurasi SVM pada test set: 1.00\n",
            "Akurasi SVM pada validation set: 1.00\n"
          ]
        }
      ]
    },
    {
      "cell_type": "code",
      "source": [
        "# Inisialisasi dan training model Decision Tree\n",
        "dt = DecisionTreeClassifier(random_state=0)\n",
        "dt.fit(X_train_combined, y_train_combined)"
      ],
      "metadata": {
        "colab": {
          "base_uri": "https://localhost:8080/",
          "height": 75
        },
        "id": "EMPmHiMi2hnq",
        "outputId": "b4e462ab-c09d-4bbd-b27c-9d9a53378cd5"
      },
      "execution_count": 148,
      "outputs": [
        {
          "output_type": "execute_result",
          "data": {
            "text/plain": [
              "DecisionTreeClassifier(random_state=0)"
            ],
            "text/html": [
              "<style>#sk-container-id-11 {color: black;background-color: white;}#sk-container-id-11 pre{padding: 0;}#sk-container-id-11 div.sk-toggleable {background-color: white;}#sk-container-id-11 label.sk-toggleable__label {cursor: pointer;display: block;width: 100%;margin-bottom: 0;padding: 0.3em;box-sizing: border-box;text-align: center;}#sk-container-id-11 label.sk-toggleable__label-arrow:before {content: \"▸\";float: left;margin-right: 0.25em;color: #696969;}#sk-container-id-11 label.sk-toggleable__label-arrow:hover:before {color: black;}#sk-container-id-11 div.sk-estimator:hover label.sk-toggleable__label-arrow:before {color: black;}#sk-container-id-11 div.sk-toggleable__content {max-height: 0;max-width: 0;overflow: hidden;text-align: left;background-color: #f0f8ff;}#sk-container-id-11 div.sk-toggleable__content pre {margin: 0.2em;color: black;border-radius: 0.25em;background-color: #f0f8ff;}#sk-container-id-11 input.sk-toggleable__control:checked~div.sk-toggleable__content {max-height: 200px;max-width: 100%;overflow: auto;}#sk-container-id-11 input.sk-toggleable__control:checked~label.sk-toggleable__label-arrow:before {content: \"▾\";}#sk-container-id-11 div.sk-estimator input.sk-toggleable__control:checked~label.sk-toggleable__label {background-color: #d4ebff;}#sk-container-id-11 div.sk-label input.sk-toggleable__control:checked~label.sk-toggleable__label {background-color: #d4ebff;}#sk-container-id-11 input.sk-hidden--visually {border: 0;clip: rect(1px 1px 1px 1px);clip: rect(1px, 1px, 1px, 1px);height: 1px;margin: -1px;overflow: hidden;padding: 0;position: absolute;width: 1px;}#sk-container-id-11 div.sk-estimator {font-family: monospace;background-color: #f0f8ff;border: 1px dotted black;border-radius: 0.25em;box-sizing: border-box;margin-bottom: 0.5em;}#sk-container-id-11 div.sk-estimator:hover {background-color: #d4ebff;}#sk-container-id-11 div.sk-parallel-item::after {content: \"\";width: 100%;border-bottom: 1px solid gray;flex-grow: 1;}#sk-container-id-11 div.sk-label:hover label.sk-toggleable__label {background-color: #d4ebff;}#sk-container-id-11 div.sk-serial::before {content: \"\";position: absolute;border-left: 1px solid gray;box-sizing: border-box;top: 0;bottom: 0;left: 50%;z-index: 0;}#sk-container-id-11 div.sk-serial {display: flex;flex-direction: column;align-items: center;background-color: white;padding-right: 0.2em;padding-left: 0.2em;position: relative;}#sk-container-id-11 div.sk-item {position: relative;z-index: 1;}#sk-container-id-11 div.sk-parallel {display: flex;align-items: stretch;justify-content: center;background-color: white;position: relative;}#sk-container-id-11 div.sk-item::before, #sk-container-id-11 div.sk-parallel-item::before {content: \"\";position: absolute;border-left: 1px solid gray;box-sizing: border-box;top: 0;bottom: 0;left: 50%;z-index: -1;}#sk-container-id-11 div.sk-parallel-item {display: flex;flex-direction: column;z-index: 1;position: relative;background-color: white;}#sk-container-id-11 div.sk-parallel-item:first-child::after {align-self: flex-end;width: 50%;}#sk-container-id-11 div.sk-parallel-item:last-child::after {align-self: flex-start;width: 50%;}#sk-container-id-11 div.sk-parallel-item:only-child::after {width: 0;}#sk-container-id-11 div.sk-dashed-wrapped {border: 1px dashed gray;margin: 0 0.4em 0.5em 0.4em;box-sizing: border-box;padding-bottom: 0.4em;background-color: white;}#sk-container-id-11 div.sk-label label {font-family: monospace;font-weight: bold;display: inline-block;line-height: 1.2em;}#sk-container-id-11 div.sk-label-container {text-align: center;}#sk-container-id-11 div.sk-container {/* jupyter's `normalize.less` sets `[hidden] { display: none; }` but bootstrap.min.css set `[hidden] { display: none !important; }` so we also need the `!important` here to be able to override the default hidden behavior on the sphinx rendered scikit-learn.org. See: https://github.com/scikit-learn/scikit-learn/issues/21755 */display: inline-block !important;position: relative;}#sk-container-id-11 div.sk-text-repr-fallback {display: none;}</style><div id=\"sk-container-id-11\" class=\"sk-top-container\"><div class=\"sk-text-repr-fallback\"><pre>DecisionTreeClassifier(random_state=0)</pre><b>In a Jupyter environment, please rerun this cell to show the HTML representation or trust the notebook. <br />On GitHub, the HTML representation is unable to render, please try loading this page with nbviewer.org.</b></div><div class=\"sk-container\" hidden><div class=\"sk-item\"><div class=\"sk-estimator sk-toggleable\"><input class=\"sk-toggleable__control sk-hidden--visually\" id=\"sk-estimator-id-11\" type=\"checkbox\" checked><label for=\"sk-estimator-id-11\" class=\"sk-toggleable__label sk-toggleable__label-arrow\">DecisionTreeClassifier</label><div class=\"sk-toggleable__content\"><pre>DecisionTreeClassifier(random_state=0)</pre></div></div></div></div></div>"
            ]
          },
          "metadata": {},
          "execution_count": 148
        }
      ]
    },
    {
      "cell_type": "code",
      "source": [
        "# Evaluasi model Decision Tree\n",
        "y_train_pred_dt = dt.predict(X_train_combined)\n",
        "y_test_pred_dt = dt.predict(X_test)\n",
        "y_val_pred_dt = dt.predict(X_val)\n",
        "\n",
        "train_accuracy_dt = accuracy_score(y_train_combined, y_train_pred_dt)\n",
        "test_accuracy_dt = accuracy_score(y_test, y_test_pred_dt)\n",
        "val_accuracy_dt = accuracy_score(y_val, y_val_pred_dt)"
      ],
      "metadata": {
        "id": "ixWbyg7b2nHE"
      },
      "execution_count": 149,
      "outputs": []
    },
    {
      "cell_type": "code",
      "source": [
        "print(f\"Akurasi Decision Tree pada train set: {train_accuracy_dt:.2f}\")\n",
        "print(f\"Akurasi Decision Tree pada test set: {test_accuracy_dt:.2f}\")\n",
        "print(f\"Akurasi Decision Tree pada validation set: {val_accuracy_dt:.2f}\")"
      ],
      "metadata": {
        "colab": {
          "base_uri": "https://localhost:8080/"
        },
        "id": "9LTKt9822qFP",
        "outputId": "e51ee40c-5a2d-4174-b0da-260567cd2562"
      },
      "execution_count": 150,
      "outputs": [
        {
          "output_type": "stream",
          "name": "stdout",
          "text": [
            "Akurasi Decision Tree pada train set: 1.00\n",
            "Akurasi Decision Tree pada test set: 1.00\n",
            "Akurasi Decision Tree pada validation set: 1.00\n"
          ]
        }
      ]
    },
    {
      "cell_type": "code",
      "source": [
        "# Inisialisasi dan training model Random Forest\n",
        "rf = RandomForestClassifier(n_estimators=100, random_state=0)\n",
        "rf.fit(X_train_combined, y_train_combined)"
      ],
      "metadata": {
        "colab": {
          "base_uri": "https://localhost:8080/",
          "height": 75
        },
        "id": "KtE-q0Su2t-0",
        "outputId": "fb9ee276-4657-482b-bb98-e8d901f6e0bb"
      },
      "execution_count": 151,
      "outputs": [
        {
          "output_type": "execute_result",
          "data": {
            "text/plain": [
              "RandomForestClassifier(random_state=0)"
            ],
            "text/html": [
              "<style>#sk-container-id-12 {color: black;background-color: white;}#sk-container-id-12 pre{padding: 0;}#sk-container-id-12 div.sk-toggleable {background-color: white;}#sk-container-id-12 label.sk-toggleable__label {cursor: pointer;display: block;width: 100%;margin-bottom: 0;padding: 0.3em;box-sizing: border-box;text-align: center;}#sk-container-id-12 label.sk-toggleable__label-arrow:before {content: \"▸\";float: left;margin-right: 0.25em;color: #696969;}#sk-container-id-12 label.sk-toggleable__label-arrow:hover:before {color: black;}#sk-container-id-12 div.sk-estimator:hover label.sk-toggleable__label-arrow:before {color: black;}#sk-container-id-12 div.sk-toggleable__content {max-height: 0;max-width: 0;overflow: hidden;text-align: left;background-color: #f0f8ff;}#sk-container-id-12 div.sk-toggleable__content pre {margin: 0.2em;color: black;border-radius: 0.25em;background-color: #f0f8ff;}#sk-container-id-12 input.sk-toggleable__control:checked~div.sk-toggleable__content {max-height: 200px;max-width: 100%;overflow: auto;}#sk-container-id-12 input.sk-toggleable__control:checked~label.sk-toggleable__label-arrow:before {content: \"▾\";}#sk-container-id-12 div.sk-estimator input.sk-toggleable__control:checked~label.sk-toggleable__label {background-color: #d4ebff;}#sk-container-id-12 div.sk-label input.sk-toggleable__control:checked~label.sk-toggleable__label {background-color: #d4ebff;}#sk-container-id-12 input.sk-hidden--visually {border: 0;clip: rect(1px 1px 1px 1px);clip: rect(1px, 1px, 1px, 1px);height: 1px;margin: -1px;overflow: hidden;padding: 0;position: absolute;width: 1px;}#sk-container-id-12 div.sk-estimator {font-family: monospace;background-color: #f0f8ff;border: 1px dotted black;border-radius: 0.25em;box-sizing: border-box;margin-bottom: 0.5em;}#sk-container-id-12 div.sk-estimator:hover {background-color: #d4ebff;}#sk-container-id-12 div.sk-parallel-item::after {content: \"\";width: 100%;border-bottom: 1px solid gray;flex-grow: 1;}#sk-container-id-12 div.sk-label:hover label.sk-toggleable__label {background-color: #d4ebff;}#sk-container-id-12 div.sk-serial::before {content: \"\";position: absolute;border-left: 1px solid gray;box-sizing: border-box;top: 0;bottom: 0;left: 50%;z-index: 0;}#sk-container-id-12 div.sk-serial {display: flex;flex-direction: column;align-items: center;background-color: white;padding-right: 0.2em;padding-left: 0.2em;position: relative;}#sk-container-id-12 div.sk-item {position: relative;z-index: 1;}#sk-container-id-12 div.sk-parallel {display: flex;align-items: stretch;justify-content: center;background-color: white;position: relative;}#sk-container-id-12 div.sk-item::before, #sk-container-id-12 div.sk-parallel-item::before {content: \"\";position: absolute;border-left: 1px solid gray;box-sizing: border-box;top: 0;bottom: 0;left: 50%;z-index: -1;}#sk-container-id-12 div.sk-parallel-item {display: flex;flex-direction: column;z-index: 1;position: relative;background-color: white;}#sk-container-id-12 div.sk-parallel-item:first-child::after {align-self: flex-end;width: 50%;}#sk-container-id-12 div.sk-parallel-item:last-child::after {align-self: flex-start;width: 50%;}#sk-container-id-12 div.sk-parallel-item:only-child::after {width: 0;}#sk-container-id-12 div.sk-dashed-wrapped {border: 1px dashed gray;margin: 0 0.4em 0.5em 0.4em;box-sizing: border-box;padding-bottom: 0.4em;background-color: white;}#sk-container-id-12 div.sk-label label {font-family: monospace;font-weight: bold;display: inline-block;line-height: 1.2em;}#sk-container-id-12 div.sk-label-container {text-align: center;}#sk-container-id-12 div.sk-container {/* jupyter's `normalize.less` sets `[hidden] { display: none; }` but bootstrap.min.css set `[hidden] { display: none !important; }` so we also need the `!important` here to be able to override the default hidden behavior on the sphinx rendered scikit-learn.org. See: https://github.com/scikit-learn/scikit-learn/issues/21755 */display: inline-block !important;position: relative;}#sk-container-id-12 div.sk-text-repr-fallback {display: none;}</style><div id=\"sk-container-id-12\" class=\"sk-top-container\"><div class=\"sk-text-repr-fallback\"><pre>RandomForestClassifier(random_state=0)</pre><b>In a Jupyter environment, please rerun this cell to show the HTML representation or trust the notebook. <br />On GitHub, the HTML representation is unable to render, please try loading this page with nbviewer.org.</b></div><div class=\"sk-container\" hidden><div class=\"sk-item\"><div class=\"sk-estimator sk-toggleable\"><input class=\"sk-toggleable__control sk-hidden--visually\" id=\"sk-estimator-id-12\" type=\"checkbox\" checked><label for=\"sk-estimator-id-12\" class=\"sk-toggleable__label sk-toggleable__label-arrow\">RandomForestClassifier</label><div class=\"sk-toggleable__content\"><pre>RandomForestClassifier(random_state=0)</pre></div></div></div></div></div>"
            ]
          },
          "metadata": {},
          "execution_count": 151
        }
      ]
    },
    {
      "cell_type": "code",
      "source": [
        "# Evaluasi model Random Forest\n",
        "y_train_pred_rf = rf.predict(X_train_combined)\n",
        "y_test_pred_rf = rf.predict(X_test)\n",
        "y_val_pred_rf = rf.predict(X_val)\n",
        "\n",
        "train_accuracy_rf = accuracy_score(y_train_combined, y_train_pred_rf)\n",
        "test_accuracy_rf = accuracy_score(y_test, y_test_pred_rf)\n",
        "val_accuracy_rf = accuracy_score(y_val, y_val_pred_rf)"
      ],
      "metadata": {
        "id": "BKrQhQ5B2wJq"
      },
      "execution_count": 152,
      "outputs": []
    },
    {
      "cell_type": "code",
      "source": [
        "print(f\"Akurasi Random Forest pada train set: {train_accuracy_rf:.2f}\")\n",
        "print(f\"Akurasi Random Forest pada test set: {test_accuracy_rf:.2f}\")\n",
        "print(f\"Akurasi Random Forest pada validation set: {val_accuracy_rf:.2f}\")"
      ],
      "metadata": {
        "colab": {
          "base_uri": "https://localhost:8080/"
        },
        "id": "d5de6ZhR2zQb",
        "outputId": "4502fc5e-7bdf-4a71-fed3-85550e77afe7"
      },
      "execution_count": 153,
      "outputs": [
        {
          "output_type": "stream",
          "name": "stdout",
          "text": [
            "Akurasi Random Forest pada train set: 1.00\n",
            "Akurasi Random Forest pada test set: 1.00\n",
            "Akurasi Random Forest pada validation set: 1.00\n"
          ]
        }
      ]
    },
    {
      "cell_type": "code",
      "source": [
        "# Inisialisasi dan training model Naive Bayes\n",
        "nb = GaussianNB()\n",
        "nb.fit(X_train_combined, y_train_combined)"
      ],
      "metadata": {
        "colab": {
          "base_uri": "https://localhost:8080/",
          "height": 75
        },
        "id": "Q32VPPIQ22Ks",
        "outputId": "f9cd34a8-fb00-456c-a9c0-3c1ddca13dc8"
      },
      "execution_count": 154,
      "outputs": [
        {
          "output_type": "execute_result",
          "data": {
            "text/plain": [
              "GaussianNB()"
            ],
            "text/html": [
              "<style>#sk-container-id-13 {color: black;background-color: white;}#sk-container-id-13 pre{padding: 0;}#sk-container-id-13 div.sk-toggleable {background-color: white;}#sk-container-id-13 label.sk-toggleable__label {cursor: pointer;display: block;width: 100%;margin-bottom: 0;padding: 0.3em;box-sizing: border-box;text-align: center;}#sk-container-id-13 label.sk-toggleable__label-arrow:before {content: \"▸\";float: left;margin-right: 0.25em;color: #696969;}#sk-container-id-13 label.sk-toggleable__label-arrow:hover:before {color: black;}#sk-container-id-13 div.sk-estimator:hover label.sk-toggleable__label-arrow:before {color: black;}#sk-container-id-13 div.sk-toggleable__content {max-height: 0;max-width: 0;overflow: hidden;text-align: left;background-color: #f0f8ff;}#sk-container-id-13 div.sk-toggleable__content pre {margin: 0.2em;color: black;border-radius: 0.25em;background-color: #f0f8ff;}#sk-container-id-13 input.sk-toggleable__control:checked~div.sk-toggleable__content {max-height: 200px;max-width: 100%;overflow: auto;}#sk-container-id-13 input.sk-toggleable__control:checked~label.sk-toggleable__label-arrow:before {content: \"▾\";}#sk-container-id-13 div.sk-estimator input.sk-toggleable__control:checked~label.sk-toggleable__label {background-color: #d4ebff;}#sk-container-id-13 div.sk-label input.sk-toggleable__control:checked~label.sk-toggleable__label {background-color: #d4ebff;}#sk-container-id-13 input.sk-hidden--visually {border: 0;clip: rect(1px 1px 1px 1px);clip: rect(1px, 1px, 1px, 1px);height: 1px;margin: -1px;overflow: hidden;padding: 0;position: absolute;width: 1px;}#sk-container-id-13 div.sk-estimator {font-family: monospace;background-color: #f0f8ff;border: 1px dotted black;border-radius: 0.25em;box-sizing: border-box;margin-bottom: 0.5em;}#sk-container-id-13 div.sk-estimator:hover {background-color: #d4ebff;}#sk-container-id-13 div.sk-parallel-item::after {content: \"\";width: 100%;border-bottom: 1px solid gray;flex-grow: 1;}#sk-container-id-13 div.sk-label:hover label.sk-toggleable__label {background-color: #d4ebff;}#sk-container-id-13 div.sk-serial::before {content: \"\";position: absolute;border-left: 1px solid gray;box-sizing: border-box;top: 0;bottom: 0;left: 50%;z-index: 0;}#sk-container-id-13 div.sk-serial {display: flex;flex-direction: column;align-items: center;background-color: white;padding-right: 0.2em;padding-left: 0.2em;position: relative;}#sk-container-id-13 div.sk-item {position: relative;z-index: 1;}#sk-container-id-13 div.sk-parallel {display: flex;align-items: stretch;justify-content: center;background-color: white;position: relative;}#sk-container-id-13 div.sk-item::before, #sk-container-id-13 div.sk-parallel-item::before {content: \"\";position: absolute;border-left: 1px solid gray;box-sizing: border-box;top: 0;bottom: 0;left: 50%;z-index: -1;}#sk-container-id-13 div.sk-parallel-item {display: flex;flex-direction: column;z-index: 1;position: relative;background-color: white;}#sk-container-id-13 div.sk-parallel-item:first-child::after {align-self: flex-end;width: 50%;}#sk-container-id-13 div.sk-parallel-item:last-child::after {align-self: flex-start;width: 50%;}#sk-container-id-13 div.sk-parallel-item:only-child::after {width: 0;}#sk-container-id-13 div.sk-dashed-wrapped {border: 1px dashed gray;margin: 0 0.4em 0.5em 0.4em;box-sizing: border-box;padding-bottom: 0.4em;background-color: white;}#sk-container-id-13 div.sk-label label {font-family: monospace;font-weight: bold;display: inline-block;line-height: 1.2em;}#sk-container-id-13 div.sk-label-container {text-align: center;}#sk-container-id-13 div.sk-container {/* jupyter's `normalize.less` sets `[hidden] { display: none; }` but bootstrap.min.css set `[hidden] { display: none !important; }` so we also need the `!important` here to be able to override the default hidden behavior on the sphinx rendered scikit-learn.org. See: https://github.com/scikit-learn/scikit-learn/issues/21755 */display: inline-block !important;position: relative;}#sk-container-id-13 div.sk-text-repr-fallback {display: none;}</style><div id=\"sk-container-id-13\" class=\"sk-top-container\"><div class=\"sk-text-repr-fallback\"><pre>GaussianNB()</pre><b>In a Jupyter environment, please rerun this cell to show the HTML representation or trust the notebook. <br />On GitHub, the HTML representation is unable to render, please try loading this page with nbviewer.org.</b></div><div class=\"sk-container\" hidden><div class=\"sk-item\"><div class=\"sk-estimator sk-toggleable\"><input class=\"sk-toggleable__control sk-hidden--visually\" id=\"sk-estimator-id-13\" type=\"checkbox\" checked><label for=\"sk-estimator-id-13\" class=\"sk-toggleable__label sk-toggleable__label-arrow\">GaussianNB</label><div class=\"sk-toggleable__content\"><pre>GaussianNB()</pre></div></div></div></div></div>"
            ]
          },
          "metadata": {},
          "execution_count": 154
        }
      ]
    },
    {
      "cell_type": "code",
      "source": [
        "# Evaluasi model Naive Bayes\n",
        "y_train_pred_nb = nb.predict(X_train_combined)\n",
        "y_test_pred_nb = nb.predict(X_test)\n",
        "y_val_pred_nb = nb.predict(X_val)\n",
        "\n",
        "train_accuracy_nb = accuracy_score(y_train_combined, y_train_pred_nb)\n",
        "test_accuracy_nb = accuracy_score(y_test, y_test_pred_nb)\n",
        "val_accuracy_nb = accuracy_score(y_val, y_val_pred_nb)"
      ],
      "metadata": {
        "id": "8WJeIenY24bA"
      },
      "execution_count": 155,
      "outputs": []
    },
    {
      "cell_type": "code",
      "source": [
        "print(f\"Akurasi Naive Bayes pada train set: {train_accuracy_nb:.2f}\")\n",
        "print(f\"Akurasi Naive Bayes pada test set: {test_accuracy_nb:.2f}\")\n",
        "print(f\"Akurasi Naive Bayes pada validation set: {val_accuracy_nb:.2f}\")"
      ],
      "metadata": {
        "colab": {
          "base_uri": "https://localhost:8080/"
        },
        "id": "fbESybQe27Ab",
        "outputId": "df9cd9ac-fbfe-4cbe-b53d-54b4bd104b13"
      },
      "execution_count": 156,
      "outputs": [
        {
          "output_type": "stream",
          "name": "stdout",
          "text": [
            "Akurasi Naive Bayes pada train set: 0.97\n",
            "Akurasi Naive Bayes pada test set: 0.93\n",
            "Akurasi Naive Bayes pada validation set: 0.93\n"
          ]
        }
      ]
    },
    {
      "cell_type": "code",
      "source": [
        "# Menampilkan confusion matrix dan classification report untuk K-NN\n",
        "print(\"\\nConfusion Matrix K-NN\")\n",
        "conf_matrix_knn = confusion_matrix(y_test, y_test_pred_knn)\n",
        "ConfusionMatrixDisplay(conf_matrix_knn, display_labels=['Matang', 'Mentah', 'Setengah Matang']).plot(cmap=plt.cm.Blues)\n",
        "plt.title('Confusion Matrix - K-NN')\n",
        "plt.show()"
      ],
      "metadata": {
        "colab": {
          "base_uri": "https://localhost:8080/",
          "height": 509
        },
        "id": "80BHBJl31B5p",
        "outputId": "bb8a14f7-2a69-47ee-e1e5-379c906d5f80"
      },
      "execution_count": 157,
      "outputs": [
        {
          "output_type": "stream",
          "name": "stdout",
          "text": [
            "\n",
            "Confusion Matrix K-NN\n"
          ]
        },
        {
          "output_type": "display_data",
          "data": {
            "text/plain": [
              "<Figure size 640x480 with 2 Axes>"
            ],
            "image/png": "[encoded data removed]"
          },
          "metadata": {}
        }
      ]
    },
    {
      "cell_type": "code",
      "source": [
        "print(\"\\nClassification Report K-NN\")\n",
        "print(classification_report(y_test, y_test_pred_knn, target_names=['Matang', 'Mentah', 'Setengah Matang']))"
      ],
      "metadata": {
        "colab": {
          "base_uri": "https://localhost:8080/"
        },
        "id": "VvE0Qap91EWM",
        "outputId": "c64719c9-a2bb-42b7-a986-c89731588533"
      },
      "execution_count": 158,
      "outputs": [
        {
          "output_type": "stream",
          "name": "stdout",
          "text": [
            "\n",
            "Classification Report K-NN\n",
            "                 precision    recall  f1-score   support\n",
            "\n",
            "         Matang       0.75      0.60      0.67         5\n",
            "         Mentah       0.83      1.00      0.91         5\n",
            "Setengah Matang       0.80      0.80      0.80         5\n",
            "\n",
            "       accuracy                           0.80        15\n",
            "      macro avg       0.79      0.80      0.79        15\n",
            "   weighted avg       0.79      0.80      0.79        15\n",
            "\n"
          ]
        }
      ]
    },
    {
      "cell_type": "code",
      "source": [
        "# Menampilkan confusion matrix dan classification report untuk SVM\n",
        "print(\"\\nConfusion Matrix SVM\")\n",
        "conf_matrix_svm = confusion_matrix(y_test, y_test_pred_svm)\n",
        "ConfusionMatrixDisplay(conf_matrix_svm, display_labels=['Matang', 'Mentah', 'Setengah Matang']).plot(cmap=plt.cm.Blues)\n",
        "plt.title('Confusion Matrix - SVM')\n",
        "plt.show()"
      ],
      "metadata": {
        "colab": {
          "base_uri": "https://localhost:8080/",
          "height": 509
        },
        "id": "FMB5_1eb1GpY",
        "outputId": "a266e843-675d-4d9b-ec83-3fe563ab5ecb"
      },
      "execution_count": 159,
      "outputs": [
        {
          "output_type": "stream",
          "name": "stdout",
          "text": [
            "\n",
            "Confusion Matrix SVM\n"
          ]
        },
        {
          "output_type": "display_data",
          "data": {
            "text/plain": [
              "<Figure size 640x480 with 2 Axes>"
            ],
            "image/png": "[encoded data removed]"
          },
          "metadata": {}
        }
      ]
    },
    {
      "cell_type": "code",
      "source": [
        "print(\"\\nClassification Report SVM\")\n",
        "print(classification_report(y_test, y_test_pred_svm, target_names=['Matang', 'Mentah', 'Setengah Matang']))"
      ],
      "metadata": {
        "colab": {
          "base_uri": "https://localhost:8080/"
        },
        "id": "_QBjqARI1I4Z",
        "outputId": "3b72c9f1-9d2f-4f4d-bdd0-8800fcf7ed68"
      },
      "execution_count": 160,
      "outputs": [
        {
          "output_type": "stream",
          "name": "stdout",
          "text": [
            "\n",
            "Classification Report SVM\n",
            "                 precision    recall  f1-score   support\n",
            "\n",
            "         Matang       1.00      1.00      1.00         5\n",
            "         Mentah       1.00      1.00      1.00         5\n",
            "Setengah Matang       1.00      1.00      1.00         5\n",
            "\n",
            "       accuracy                           1.00        15\n",
            "      macro avg       1.00      1.00      1.00        15\n",
            "   weighted avg       1.00      1.00      1.00        15\n",
            "\n"
          ]
        }
      ]
    },
    {
      "cell_type": "code",
      "source": [
        "# Menampilkan confusion matrix dan classification report untuk Decision Tree\n",
        "print(\"\\nConfusion Matrix Decision Tree\")\n",
        "conf_matrix_dt = confusion_matrix(y_test, y_test_pred_dt)\n",
        "ConfusionMatrixDisplay(conf_matrix_dt, display_labels=['Matang', 'Mentah', 'Setengah Matang']).plot(cmap=plt.cm.Blues)\n",
        "plt.title('Confusion Matrix - Decision Tree')\n",
        "plt.show()"
      ],
      "metadata": {
        "colab": {
          "base_uri": "https://localhost:8080/",
          "height": 509
        },
        "id": "8pU01m7S2_kt",
        "outputId": "8da6f52b-83be-4347-ff29-ab7dd70b16aa"
      },
      "execution_count": 161,
      "outputs": [
        {
          "output_type": "stream",
          "name": "stdout",
          "text": [
            "\n",
            "Confusion Matrix Decision Tree\n"
          ]
        },
        {
          "output_type": "display_data",
          "data": {
            "text/plain": [
              "<Figure size 640x480 with 2 Axes>"
            ],
            "image/png": "[encoded data removed]"
          },
          "metadata": {}
        }
      ]
    },
    {
      "cell_type": "code",
      "source": [
        "print(\"\\nClassification Report Decision Tree\")\n",
        "print(classification_report(y_test, y_test_pred_dt, target_names=['Matang', 'Mentah', 'Setengah Matang']))"
      ],
      "metadata": {
        "colab": {
          "base_uri": "https://localhost:8080/"
        },
        "id": "SMw1xG_t3CBB",
        "outputId": "ff24fca2-cf7f-4ace-8124-507d7c4ce454"
      },
      "execution_count": 162,
      "outputs": [
        {
          "output_type": "stream",
          "name": "stdout",
          "text": [
            "\n",
            "Classification Report Decision Tree\n",
            "                 precision    recall  f1-score   support\n",
            "\n",
            "         Matang       1.00      1.00      1.00         5\n",
            "         Mentah       1.00      1.00      1.00         5\n",
            "Setengah Matang       1.00      1.00      1.00         5\n",
            "\n",
            "       accuracy                           1.00        15\n",
            "      macro avg       1.00      1.00      1.00        15\n",
            "   weighted avg       1.00      1.00      1.00        15\n",
            "\n"
          ]
        }
      ]
    },
    {
      "cell_type": "code",
      "source": [
        "# Menampilkan confusion matrix dan classification report untuk Random Forest\n",
        "print(\"\\nConfusion Matrix Random Forest\")\n",
        "conf_matrix_rf = confusion_matrix(y_test, y_test_pred_rf)\n",
        "ConfusionMatrixDisplay(conf_matrix_rf, display_labels=['Matang', 'Mentah', 'Setengah Matang']).plot(cmap=plt.cm.Blues)\n",
        "plt.title('Confusion Matrix - Random Forest')\n",
        "plt.show()"
      ],
      "metadata": {
        "colab": {
          "base_uri": "https://localhost:8080/",
          "height": 509
        },
        "id": "BLjp01Oe3Ekn",
        "outputId": "2a5e900d-6bb5-4a2d-882c-a6e762fdfc40"
      },
      "execution_count": 163,
      "outputs": [
        {
          "output_type": "stream",
          "name": "stdout",
          "text": [
            "\n",
            "Confusion Matrix Random Forest\n"
          ]
        },
        {
          "output_type": "display_data",
          "data": {
            "text/plain": [
              "<Figure size 640x480 with 2 Axes>"
            ],
            "image/png": "[encoded data removed]"
          },
          "metadata": {}
        }
      ]
    },
    {
      "cell_type": "code",
      "source": [
        "print(\"\\nClassification Report Random Forest\")\n",
        "print(classification_report(y_test, y_test_pred_rf, target_names=['Matang', 'Mentah', 'Setengah Matang']))"
      ],
      "metadata": {
        "colab": {
          "base_uri": "https://localhost:8080/"
        },
        "id": "ZmpTUcqr3Fc4",
        "outputId": "7420f6bd-130b-4ec3-feb6-d835ec73540d"
      },
      "execution_count": 165,
      "outputs": [
        {
          "output_type": "stream",
          "name": "stdout",
          "text": [
            "\n",
            "Classification Report Random Forest\n",
            "                 precision    recall  f1-score   support\n",
            "\n",
            "         Matang       1.00      1.00      1.00         5\n",
            "         Mentah       1.00      1.00      1.00         5\n",
            "Setengah Matang       1.00      1.00      1.00         5\n",
            "\n",
            "       accuracy                           1.00        15\n",
            "      macro avg       1.00      1.00      1.00        15\n",
            "   weighted avg       1.00      1.00      1.00        15\n",
            "\n"
          ]
        }
      ]
    },
    {
      "cell_type": "code",
      "source": [
        "# Menampilkan confusion matrix dan classification report untuk Naive Bayes\n",
        "print(\"\\nConfusion Matrix Naive Bayes\")\n",
        "conf_matrix_nb = confusion_matrix(y_test, y_test_pred_nb)\n",
        "ConfusionMatrixDisplay(conf_matrix_nb, display_labels=['Matang', 'Mentah', 'Setengah Matang']).plot(cmap=plt.cm.Blues)\n",
        "plt.title('Confusion Matrix - Naive Bayes')\n",
        "plt.show()"
      ],
      "metadata": {
        "colab": {
          "base_uri": "https://localhost:8080/",
          "height": 509
        },
        "id": "sCOjflBw3Jri",
        "outputId": "33318ec5-3daf-4f5f-c019-a4b4b7b965d5"
      },
      "execution_count": 166,
      "outputs": [
        {
          "output_type": "stream",
          "name": "stdout",
          "text": [
            "\n",
            "Confusion Matrix Naive Bayes\n"
          ]
        },
        {
          "output_type": "display_data",
          "data": {
            "text/plain": [
              "<Figure size 640x480 with 2 Axes>"
            ],
            "image/png": "[encoded data removed]"
          },
          "metadata": {}
        }
      ]
    },
    {
      "cell_type": "code",
      "source": [
        "print(\"\\nClassification Report Naive Bayes\")\n",
        "print(classification_report(y_test, y_test_pred_nb, target_names=['Matang', 'Mentah', 'Setengah Matang']))"
      ],
      "metadata": {
        "colab": {
          "base_uri": "https://localhost:8080/"
        },
        "id": "wsIcje3o3L1n",
        "outputId": "17e8739c-65f2-41b5-fe66-e3cf2865d33f"
      },
      "execution_count": 167,
      "outputs": [
        {
          "output_type": "stream",
          "name": "stdout",
          "text": [
            "\n",
            "Classification Report Naive Bayes\n",
            "                 precision    recall  f1-score   support\n",
            "\n",
            "         Matang       1.00      1.00      1.00         5\n",
            "         Mentah       0.83      1.00      0.91         5\n",
            "Setengah Matang       1.00      0.80      0.89         5\n",
            "\n",
            "       accuracy                           0.93        15\n",
            "      macro avg       0.94      0.93      0.93        15\n",
            "   weighted avg       0.94      0.93      0.93        15\n",
            "\n"
          ]
        }
      ]
    },
    {
      "cell_type": "code",
      "source": [
        "from sklearn.metrics import classification_report\n",
        "\n",
        "# Buat dictionary untuk menyimpan semua classification report\n",
        "classification_reports = {}\n",
        "\n",
        "# Masukkan classification report untuk setiap model ke dalam dictionary\n",
        "classification_reports['K-NN'] = classification_report(y_test, y_test_pred_knn, target_names=['Matang', 'Mentah', 'Setengah Matang'])\n",
        "classification_reports['SVM'] = classification_report(y_test, y_test_pred_svm, target_names=['Matang', 'Mentah', 'Setengah Matang'])\n",
        "classification_reports['Decision Tree'] = classification_report(y_test, y_test_pred_dt, target_names=['Matang', 'Mentah', 'Setengah Matang'])\n",
        "classification_reports['Random Forest'] = classification_report(y_test, y_test_pred_rf, target_names=['Matang', 'Mentah', 'Setengah Matang'])\n",
        "classification_reports['Naive Bayes'] = classification_report(y_test, y_test_pred_nb, target_names=['Matang', 'Mentah', 'Setengah Matang'])\n",
        "\n",
        "# Print semua classification report secara bersamaan\n",
        "for model, report in classification_reports.items():\n",
        "    print(f\"\\nClassification Report {model}\")\n",
        "    print(report)\n"
      ],
      "metadata": {
        "colab": {
          "base_uri": "https://localhost:8080/"
        },
        "id": "hMWqE-Tu6QYF",
        "outputId": "8fe37deb-c182-4048-a64a-325dba6cb928"
      },
      "execution_count": 172,
      "outputs": [
        {
          "output_type": "stream",
          "name": "stdout",
          "text": [
            "\n",
            "Classification Report K-NN\n",
            "                 precision    recall  f1-score   support\n",
            "\n",
            "         Matang       0.75      0.60      0.67         5\n",
            "         Mentah       0.83      1.00      0.91         5\n",
            "Setengah Matang       0.80      0.80      0.80         5\n",
            "\n",
            "       accuracy                           0.80        15\n",
            "      macro avg       0.79      0.80      0.79        15\n",
            "   weighted avg       0.79      0.80      0.79        15\n",
            "\n",
            "\n",
            "Classification Report SVM\n",
            "                 precision    recall  f1-score   support\n",
            "\n",
            "         Matang       1.00      1.00      1.00         5\n",
            "         Mentah       1.00      1.00      1.00         5\n",
            "Setengah Matang       1.00      1.00      1.00         5\n",
            "\n",
            "       accuracy                           1.00        15\n",
            "      macro avg       1.00      1.00      1.00        15\n",
            "   weighted avg       1.00      1.00      1.00        15\n",
            "\n",
            "\n",
            "Classification Report Decision Tree\n",
            "                 precision    recall  f1-score   support\n",
            "\n",
            "         Matang       1.00      1.00      1.00         5\n",
            "         Mentah       1.00      1.00      1.00         5\n",
            "Setengah Matang       1.00      1.00      1.00         5\n",
            "\n",
            "       accuracy                           1.00        15\n",
            "      macro avg       1.00      1.00      1.00        15\n",
            "   weighted avg       1.00      1.00      1.00        15\n",
            "\n",
            "\n",
            "Classification Report Random Forest\n",
            "                 precision    recall  f1-score   support\n",
            "\n",
            "         Matang       1.00      1.00      1.00         5\n",
            "         Mentah       1.00      1.00      1.00         5\n",
            "Setengah Matang       1.00      1.00      1.00         5\n",
            "\n",
            "       accuracy                           1.00        15\n",
            "      macro avg       1.00      1.00      1.00        15\n",
            "   weighted avg       1.00      1.00      1.00        15\n",
            "\n",
            "\n",
            "Classification Report Naive Bayes\n",
            "                 precision    recall  f1-score   support\n",
            "\n",
            "         Matang       1.00      1.00      1.00         5\n",
            "         Mentah       0.83      1.00      0.91         5\n",
            "Setengah Matang       1.00      0.80      0.89         5\n",
            "\n",
            "       accuracy                           0.93        15\n",
            "      macro avg       0.94      0.93      0.93        15\n",
            "   weighted avg       0.94      0.93      0.93        15\n",
            "\n"
          ]
        }
      ]
    },
    {
      "cell_type": "code",
      "source": [
        "import time\n",
        "import pandas as pd\n",
        "from sklearn.metrics import accuracy_score, precision_recall_fscore_support\n",
        "\n",
        "# Fungsi untuk menghitung dan mengumpulkan metrics\n",
        "def calculate_metrics(y_true, y_pred):\n",
        "    accuracy = accuracy_score(y_true, y_pred)\n",
        "    precision, recall, f1, _ = precision_recall_fscore_support(y_true, y_pred, average='weighted')\n",
        "    return accuracy, precision, recall, f1\n",
        "\n",
        "# Fungsi untuk melakukan training dan prediksi sambil mengukur waktu\n",
        "def train_and_predict(model, X_train, y_train, X_test):\n",
        "    start_train_time = time.time()\n",
        "    model.fit(X_train, y_train)\n",
        "    end_train_time = time.time()\n",
        "    train_time = end_train_time - start_train_time\n",
        "\n",
        "    start_pred_time = time.time()\n",
        "    y_pred = model.predict(X_test)\n",
        "    end_pred_time = time.time()\n",
        "    pred_time = end_pred_time - start_pred_time\n",
        "\n",
        "    return y_pred, train_time, pred_time"
      ],
      "metadata": {
        "id": "Ac8zE6aO8SLk"
      },
      "execution_count": 178,
      "outputs": []
    },
    {
      "cell_type": "code",
      "source": [
        "# Inisialisasi model-model yang akan digunakan\n",
        "models = {\n",
        "    'K-NN': KNeighborsClassifier(n_neighbors=3),\n",
        "    'SVM': SVC(kernel='linear'),\n",
        "    'Decision Tree': DecisionTreeClassifier(random_state=0),\n",
        "    'Random Forest': RandomForestClassifier(n_estimators=100, random_state=0),\n",
        "    'Naive Bayes': GaussianNB()\n",
        "}\n"
      ],
      "metadata": {
        "id": "jIurP9iM8Ub4"
      },
      "execution_count": 179,
      "outputs": []
    },
    {
      "cell_type": "code",
      "source": [
        "# Inisialisasi dictionary untuk menyimpan hasil evaluasi\n",
        "results_train = {\n",
        "    'Model': [],\n",
        "    'Accuracy': [],\n",
        "    'Precision': [],\n",
        "    'Recall': [],\n",
        "    'F1-Score': [],\n",
        "    'Training Time (s)': [],\n",
        "    'Prediction Time (s)': []\n",
        "}"
      ],
      "metadata": {
        "id": "g3xdy0wt8yIA"
      },
      "execution_count": 180,
      "outputs": []
    },
    {
      "cell_type": "code",
      "source": [
        "# Menghitung dan menyimpan metrics untuk setiap model\n",
        "for model_name, model in models.items():\n",
        "    y_pred_train, train_time, pred_time = train_and_predict(model, X_train_combined, y_train_combined, X_train_combined)\n",
        "    accuracy, precision, recall, f1 = calculate_metrics(y_train_combined, y_pred_train)\n",
        "\n",
        "    results_train['Model'].append(model_name)\n",
        "    results_train['Accuracy'].append(accuracy)\n",
        "    results_train['Precision'].append(precision)\n",
        "    results_train['Recall'].append(recall)\n",
        "    results_train['F1-Score'].append(f1)\n",
        "    results_train['Training Time (s)'].append(train_time)\n",
        "    results_train['Prediction Time (s)'].append(pred_time)\n",
        "\n",
        "# Membuat DataFrame dari dictionary hasil evaluasi\n",
        "df_results_train = pd.DataFrame(results_train)"
      ],
      "metadata": {
        "id": "UC1rsynL8Wgv"
      },
      "execution_count": 181,
      "outputs": []
    },
    {
      "cell_type": "code",
      "source": [
        "# Menampilkan tabel hasil evaluasi\n",
        "print(\"\\nResults on Train Data\")\n",
        "print(df_results_train)"
      ],
      "metadata": {
        "colab": {
          "base_uri": "https://localhost:8080/"
        },
        "id": "_gnkKElU8XPH",
        "outputId": "1ecd9b4c-76e9-480e-afc9-38dbb2097d20"
      },
      "execution_count": 183,
      "outputs": [
        {
          "output_type": "stream",
          "name": "stdout",
          "text": [
            "\n",
            "Results on Train Data\n",
            "           Model  Accuracy  Precision    Recall  F1-Score  Training Time (s)  \\\n",
            "0           K-NN  0.833333   0.837121  0.833333  0.830688           0.002851   \n",
            "1            SVM  1.000000   1.000000  1.000000  1.000000           0.024330   \n",
            "2  Decision Tree  1.000000   1.000000  1.000000  1.000000           0.106549   \n",
            "3  Random Forest  1.000000   1.000000  1.000000  1.000000           0.191559   \n",
            "4    Naive Bayes  0.966667   0.969697  0.966667  0.966583           0.006082   \n",
            "\n",
            "   Prediction Time (s)  \n",
            "0             0.010334  \n",
            "1             0.012271  \n",
            "2             0.001126  \n",
            "3             0.005694  \n",
            "4             0.008217  \n"
          ]
        }
      ]
    }
  ]
}